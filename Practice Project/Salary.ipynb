{
 "cells": [
  {
   "cell_type": "markdown",
   "id": "1a423a60",
   "metadata": {},
   "source": [
    "# Problem Statement\n",
    "Predict the salary if the employee using the features provided in the data. "
   ]
  },
  {
   "cell_type": "code",
   "execution_count": 31,
   "id": "89e30820",
   "metadata": {},
   "outputs": [],
   "source": [
    "import pandas as pd\n",
    "import numpy as np"
   ]
  },
  {
   "cell_type": "code",
   "execution_count": 32,
   "id": "d28cf063",
   "metadata": {},
   "outputs": [],
   "source": [
    "df=pd.read_csv(\"https://raw.githubusercontent.com/dsrscientist/dataset3/main/Salaries.csv\")"
   ]
  },
  {
   "cell_type": "code",
   "execution_count": 33,
   "id": "ab90589d",
   "metadata": {},
   "outputs": [
    {
     "data": {
      "text/html": [
       "<div>\n",
       "<style scoped>\n",
       "    .dataframe tbody tr th:only-of-type {\n",
       "        vertical-align: middle;\n",
       "    }\n",
       "\n",
       "    .dataframe tbody tr th {\n",
       "        vertical-align: top;\n",
       "    }\n",
       "\n",
       "    .dataframe thead th {\n",
       "        text-align: right;\n",
       "    }\n",
       "</style>\n",
       "<table border=\"1\" class=\"dataframe\">\n",
       "  <thead>\n",
       "    <tr style=\"text-align: right;\">\n",
       "      <th></th>\n",
       "      <th>rank</th>\n",
       "      <th>discipline</th>\n",
       "      <th>yrs.since.phd</th>\n",
       "      <th>yrs.service</th>\n",
       "      <th>sex</th>\n",
       "      <th>salary</th>\n",
       "    </tr>\n",
       "  </thead>\n",
       "  <tbody>\n",
       "    <tr>\n",
       "      <th>0</th>\n",
       "      <td>Prof</td>\n",
       "      <td>B</td>\n",
       "      <td>19</td>\n",
       "      <td>18</td>\n",
       "      <td>Male</td>\n",
       "      <td>139750</td>\n",
       "    </tr>\n",
       "    <tr>\n",
       "      <th>1</th>\n",
       "      <td>Prof</td>\n",
       "      <td>B</td>\n",
       "      <td>20</td>\n",
       "      <td>16</td>\n",
       "      <td>Male</td>\n",
       "      <td>173200</td>\n",
       "    </tr>\n",
       "    <tr>\n",
       "      <th>2</th>\n",
       "      <td>AsstProf</td>\n",
       "      <td>B</td>\n",
       "      <td>4</td>\n",
       "      <td>3</td>\n",
       "      <td>Male</td>\n",
       "      <td>79750</td>\n",
       "    </tr>\n",
       "    <tr>\n",
       "      <th>3</th>\n",
       "      <td>Prof</td>\n",
       "      <td>B</td>\n",
       "      <td>45</td>\n",
       "      <td>39</td>\n",
       "      <td>Male</td>\n",
       "      <td>115000</td>\n",
       "    </tr>\n",
       "    <tr>\n",
       "      <th>4</th>\n",
       "      <td>Prof</td>\n",
       "      <td>B</td>\n",
       "      <td>40</td>\n",
       "      <td>41</td>\n",
       "      <td>Male</td>\n",
       "      <td>141500</td>\n",
       "    </tr>\n",
       "    <tr>\n",
       "      <th>...</th>\n",
       "      <td>...</td>\n",
       "      <td>...</td>\n",
       "      <td>...</td>\n",
       "      <td>...</td>\n",
       "      <td>...</td>\n",
       "      <td>...</td>\n",
       "    </tr>\n",
       "    <tr>\n",
       "      <th>392</th>\n",
       "      <td>Prof</td>\n",
       "      <td>A</td>\n",
       "      <td>33</td>\n",
       "      <td>30</td>\n",
       "      <td>Male</td>\n",
       "      <td>103106</td>\n",
       "    </tr>\n",
       "    <tr>\n",
       "      <th>393</th>\n",
       "      <td>Prof</td>\n",
       "      <td>A</td>\n",
       "      <td>31</td>\n",
       "      <td>19</td>\n",
       "      <td>Male</td>\n",
       "      <td>150564</td>\n",
       "    </tr>\n",
       "    <tr>\n",
       "      <th>394</th>\n",
       "      <td>Prof</td>\n",
       "      <td>A</td>\n",
       "      <td>42</td>\n",
       "      <td>25</td>\n",
       "      <td>Male</td>\n",
       "      <td>101738</td>\n",
       "    </tr>\n",
       "    <tr>\n",
       "      <th>395</th>\n",
       "      <td>Prof</td>\n",
       "      <td>A</td>\n",
       "      <td>25</td>\n",
       "      <td>15</td>\n",
       "      <td>Male</td>\n",
       "      <td>95329</td>\n",
       "    </tr>\n",
       "    <tr>\n",
       "      <th>396</th>\n",
       "      <td>AsstProf</td>\n",
       "      <td>A</td>\n",
       "      <td>8</td>\n",
       "      <td>4</td>\n",
       "      <td>Male</td>\n",
       "      <td>81035</td>\n",
       "    </tr>\n",
       "  </tbody>\n",
       "</table>\n",
       "<p>397 rows × 6 columns</p>\n",
       "</div>"
      ],
      "text/plain": [
       "         rank discipline  yrs.since.phd  yrs.service   sex  salary\n",
       "0        Prof          B             19           18  Male  139750\n",
       "1        Prof          B             20           16  Male  173200\n",
       "2    AsstProf          B              4            3  Male   79750\n",
       "3        Prof          B             45           39  Male  115000\n",
       "4        Prof          B             40           41  Male  141500\n",
       "..        ...        ...            ...          ...   ...     ...\n",
       "392      Prof          A             33           30  Male  103106\n",
       "393      Prof          A             31           19  Male  150564\n",
       "394      Prof          A             42           25  Male  101738\n",
       "395      Prof          A             25           15  Male   95329\n",
       "396  AsstProf          A              8            4  Male   81035\n",
       "\n",
       "[397 rows x 6 columns]"
      ]
     },
     "execution_count": 33,
     "metadata": {},
     "output_type": "execute_result"
    }
   ],
   "source": [
    "df"
   ]
  },
  {
   "cell_type": "code",
   "execution_count": 34,
   "id": "3c144fad",
   "metadata": {},
   "outputs": [
    {
     "data": {
      "text/plain": [
       "Index(['rank', 'discipline', 'yrs.since.phd', 'yrs.service', 'sex', 'salary'], dtype='object')"
      ]
     },
     "execution_count": 34,
     "metadata": {},
     "output_type": "execute_result"
    }
   ],
   "source": [
    "df.columns"
   ]
  },
  {
   "cell_type": "markdown",
   "id": "5e2d7c29",
   "metadata": {},
   "source": [
    "About the columns\n",
    "\n",
    "1.rank\n",
    "It shows the service they are providing like prof or asstprof etc.\n",
    "\n",
    "2.discipline\n",
    "it shows the rank of discipline they have.\n",
    "\n",
    "3.yrs.since.phd\n",
    "it shows since how many years that person completed they phd degree\n",
    "\n",
    "4.yrs.service\n",
    "it shows the working experience of the paticular person\n",
    "\n",
    "5.sex\n",
    "it shows the person is male or female\n",
    "\n",
    "6.salary\n",
    "it shows the salary they got"
   ]
  },
  {
   "cell_type": "code",
   "execution_count": 35,
   "id": "b762d5ff",
   "metadata": {},
   "outputs": [
    {
     "data": {
      "text/plain": [
       "rank             0\n",
       "discipline       0\n",
       "yrs.since.phd    0\n",
       "yrs.service      0\n",
       "sex              0\n",
       "salary           0\n",
       "dtype: int64"
      ]
     },
     "execution_count": 35,
     "metadata": {},
     "output_type": "execute_result"
    }
   ],
   "source": [
    "df.isnull().sum()"
   ]
  },
  {
   "cell_type": "markdown",
   "id": "2d046292",
   "metadata": {},
   "source": [
    "# EDA\n",
    "\n",
    "Scatterplot"
   ]
  },
  {
   "cell_type": "code",
   "execution_count": 36,
   "id": "9fc0508f",
   "metadata": {},
   "outputs": [
    {
     "data": {
      "text/plain": [
       "<AxesSubplot:xlabel='discipline', ylabel='rank'>"
      ]
     },
     "execution_count": 36,
     "metadata": {},
     "output_type": "execute_result"
    },
    {
     "data": {
      "image/png": "[encoded data removed]",
      "text/plain": [
       "<Figure size 432x288 with 1 Axes>"
      ]
     },
     "metadata": {
      "needs_background": "light"
     },
     "output_type": "display_data"
    }
   ],
   "source": [
    "import seaborn as sns\n",
    "sns.scatterplot(x=\"discipline\",y=\"rank\",data=df)"
   ]
  },
  {
   "cell_type": "code",
   "execution_count": 37,
   "id": "68ecc362",
   "metadata": {},
   "outputs": [
    {
     "data": {
      "text/plain": [
       "<AxesSubplot:xlabel='yrs.since.phd', ylabel='rank'>"
      ]
     },
     "execution_count": 37,
     "metadata": {},
     "output_type": "execute_result"
    },
    {
     "data": {
      "image/png": "[encoded data removed]",
      "text/plain": [
       "<Figure size 432x288 with 1 Axes>"
      ]
     },
     "metadata": {
      "needs_background": "light"
     },
     "output_type": "display_data"
    }
   ],
   "source": [
    "sns.scatterplot(x=\"yrs.since.phd\",y=\"rank\",data=df)"
   ]
  },
  {
   "cell_type": "markdown",
   "id": "20cc9e5d",
   "metadata": {},
   "source": [
    "we can see in the range of yrs since phd between 0 to 13"
   ]
  },
  {
   "cell_type": "code",
   "execution_count": 38,
   "id": "7e7800bf",
   "metadata": {},
   "outputs": [
    {
     "data": {
      "text/plain": [
       "<AxesSubplot:xlabel='yrs.service', ylabel='rank'>"
      ]
     },
     "execution_count": 38,
     "metadata": {},
     "output_type": "execute_result"
    },
    {
     "data": {
      "image/png": "[encoded data removed]",
      "text/plain": [
       "<Figure size 432x288 with 1 Axes>"
      ]
     },
     "metadata": {
      "needs_background": "light"
     },
     "output_type": "display_data"
    }
   ],
   "source": [
    "sns.scatterplot(x=\"yrs.service\",y=\"rank\",data=df)"
   ]
  },
  {
   "cell_type": "markdown",
   "id": "ac95f6a0",
   "metadata": {},
   "source": [
    "we can see in the range of yrs of service between 0 to 10"
   ]
  },
  {
   "cell_type": "code",
   "execution_count": 39,
   "id": "775e1242",
   "metadata": {},
   "outputs": [
    {
     "data": {
      "text/plain": [
       "<AxesSubplot:xlabel='sex', ylabel='rank'>"
      ]
     },
     "execution_count": 39,
     "metadata": {},
     "output_type": "execute_result"
    },
    {
     "data": {
      "image/png": "[encoded data removed]",
      "text/plain": [
       "<Figure size 432x288 with 1 Axes>"
      ]
     },
     "metadata": {
      "needs_background": "light"
     },
     "output_type": "display_data"
    }
   ],
   "source": [
    "sns.scatterplot(x=\"sex\",y=\"rank\",data=df)"
   ]
  },
  {
   "cell_type": "code",
   "execution_count": 40,
   "id": "297f8475",
   "metadata": {},
   "outputs": [
    {
     "data": {
      "text/plain": [
       "<AxesSubplot:xlabel='salary', ylabel='rank'>"
      ]
     },
     "execution_count": 40,
     "metadata": {},
     "output_type": "execute_result"
    },
    {
     "data": {
      "image/png": "[encoded data removed]",
      "text/plain": [
       "<Figure size 432x288 with 1 Axes>"
      ]
     },
     "metadata": {
      "needs_background": "light"
     },
     "output_type": "display_data"
    }
   ],
   "source": [
    "sns.scatterplot(x=\"salary\",y=\"rank\",data=df)"
   ]
  },
  {
   "cell_type": "markdown",
   "id": "fb4bf280",
   "metadata": {},
   "source": [
    "we can see in the range of salary between 60000 to 100000"
   ]
  },
  {
   "cell_type": "markdown",
   "id": "49d39710",
   "metadata": {},
   "source": [
    "# Correlation"
   ]
  },
  {
   "cell_type": "code",
   "execution_count": 41,
   "id": "c3203057",
   "metadata": {},
   "outputs": [
    {
     "data": {
      "text/html": [
       "<div>\n",
       "<style scoped>\n",
       "    .dataframe tbody tr th:only-of-type {\n",
       "        vertical-align: middle;\n",
       "    }\n",
       "\n",
       "    .dataframe tbody tr th {\n",
       "        vertical-align: top;\n",
       "    }\n",
       "\n",
       "    .dataframe thead th {\n",
       "        text-align: right;\n",
       "    }\n",
       "</style>\n",
       "<table border=\"1\" class=\"dataframe\">\n",
       "  <thead>\n",
       "    <tr style=\"text-align: right;\">\n",
       "      <th></th>\n",
       "      <th>yrs.since.phd</th>\n",
       "      <th>yrs.service</th>\n",
       "      <th>salary</th>\n",
       "    </tr>\n",
       "  </thead>\n",
       "  <tbody>\n",
       "    <tr>\n",
       "      <th>yrs.since.phd</th>\n",
       "      <td>1.000000</td>\n",
       "      <td>0.909649</td>\n",
       "      <td>0.419231</td>\n",
       "    </tr>\n",
       "    <tr>\n",
       "      <th>yrs.service</th>\n",
       "      <td>0.909649</td>\n",
       "      <td>1.000000</td>\n",
       "      <td>0.334745</td>\n",
       "    </tr>\n",
       "    <tr>\n",
       "      <th>salary</th>\n",
       "      <td>0.419231</td>\n",
       "      <td>0.334745</td>\n",
       "      <td>1.000000</td>\n",
       "    </tr>\n",
       "  </tbody>\n",
       "</table>\n",
       "</div>"
      ],
      "text/plain": [
       "               yrs.since.phd  yrs.service    salary\n",
       "yrs.since.phd       1.000000     0.909649  0.419231\n",
       "yrs.service         0.909649     1.000000  0.334745\n",
       "salary              0.419231     0.334745  1.000000"
      ]
     },
     "execution_count": 41,
     "metadata": {},
     "output_type": "execute_result"
    }
   ],
   "source": [
    "df.corr()"
   ]
  },
  {
   "cell_type": "code",
   "execution_count": 42,
   "id": "9bc3a911",
   "metadata": {},
   "outputs": [
    {
     "data": {
      "text/plain": [
       "<AxesSubplot:>"
      ]
     },
     "execution_count": 42,
     "metadata": {},
     "output_type": "execute_result"
    },
    {
     "data": {
      "image/png": "[encoded data removed]",
      "text/plain": [
       "<Figure size 1080x504 with 2 Axes>"
      ]
     },
     "metadata": {
      "needs_background": "light"
     },
     "output_type": "display_data"
    }
   ],
   "source": [
    "import matplotlib.pyplot as plt\n",
    "plt.figure(figsize=(15,7))\n",
    "sns.heatmap(df.corr(), annot=True, linewidth=0.5, linecolor=\"black\", fmt=\".2f\")"
   ]
  },
  {
   "cell_type": "markdown",
   "id": "9b9ece1e",
   "metadata": {},
   "source": [
    "# Outcome of Correlation"
   ]
  },
  {
   "cell_type": "markdown",
   "id": "5017d47e",
   "metadata": {},
   "source": [
    "All the columnsv of dataset is positivly correlated to the target columns\n",
    "\n",
    "max correlation with :- yrs.since.phd\n",
    "    \n",
    "min correlation with :- yrs.service\n"
   ]
  },
  {
   "cell_type": "markdown",
   "id": "c23379f1",
   "metadata": {},
   "source": [
    "# Describing Dataset"
   ]
  },
  {
   "cell_type": "code",
   "execution_count": 43,
   "id": "54153c84",
   "metadata": {},
   "outputs": [
    {
     "data": {
      "text/html": [
       "<div>\n",
       "<style scoped>\n",
       "    .dataframe tbody tr th:only-of-type {\n",
       "        vertical-align: middle;\n",
       "    }\n",
       "\n",
       "    .dataframe tbody tr th {\n",
       "        vertical-align: top;\n",
       "    }\n",
       "\n",
       "    .dataframe thead th {\n",
       "        text-align: right;\n",
       "    }\n",
       "</style>\n",
       "<table border=\"1\" class=\"dataframe\">\n",
       "  <thead>\n",
       "    <tr style=\"text-align: right;\">\n",
       "      <th></th>\n",
       "      <th>yrs.since.phd</th>\n",
       "      <th>yrs.service</th>\n",
       "      <th>salary</th>\n",
       "    </tr>\n",
       "  </thead>\n",
       "  <tbody>\n",
       "    <tr>\n",
       "      <th>count</th>\n",
       "      <td>397.000000</td>\n",
       "      <td>397.000000</td>\n",
       "      <td>397.000000</td>\n",
       "    </tr>\n",
       "    <tr>\n",
       "      <th>mean</th>\n",
       "      <td>22.314861</td>\n",
       "      <td>17.614610</td>\n",
       "      <td>113706.458438</td>\n",
       "    </tr>\n",
       "    <tr>\n",
       "      <th>std</th>\n",
       "      <td>12.887003</td>\n",
       "      <td>13.006024</td>\n",
       "      <td>30289.038695</td>\n",
       "    </tr>\n",
       "    <tr>\n",
       "      <th>min</th>\n",
       "      <td>1.000000</td>\n",
       "      <td>0.000000</td>\n",
       "      <td>57800.000000</td>\n",
       "    </tr>\n",
       "    <tr>\n",
       "      <th>25%</th>\n",
       "      <td>12.000000</td>\n",
       "      <td>7.000000</td>\n",
       "      <td>91000.000000</td>\n",
       "    </tr>\n",
       "    <tr>\n",
       "      <th>50%</th>\n",
       "      <td>21.000000</td>\n",
       "      <td>16.000000</td>\n",
       "      <td>107300.000000</td>\n",
       "    </tr>\n",
       "    <tr>\n",
       "      <th>75%</th>\n",
       "      <td>32.000000</td>\n",
       "      <td>27.000000</td>\n",
       "      <td>134185.000000</td>\n",
       "    </tr>\n",
       "    <tr>\n",
       "      <th>max</th>\n",
       "      <td>56.000000</td>\n",
       "      <td>60.000000</td>\n",
       "      <td>231545.000000</td>\n",
       "    </tr>\n",
       "  </tbody>\n",
       "</table>\n",
       "</div>"
      ],
      "text/plain": [
       "       yrs.since.phd  yrs.service         salary\n",
       "count     397.000000   397.000000     397.000000\n",
       "mean       22.314861    17.614610  113706.458438\n",
       "std        12.887003    13.006024   30289.038695\n",
       "min         1.000000     0.000000   57800.000000\n",
       "25%        12.000000     7.000000   91000.000000\n",
       "50%        21.000000    16.000000  107300.000000\n",
       "75%        32.000000    27.000000  134185.000000\n",
       "max        56.000000    60.000000  231545.000000"
      ]
     },
     "execution_count": 43,
     "metadata": {},
     "output_type": "execute_result"
    }
   ],
   "source": [
    "df.describe()"
   ]
  },
  {
   "cell_type": "code",
   "execution_count": 44,
   "id": "6b3ba619",
   "metadata": {},
   "outputs": [
    {
     "data": {
      "image/png": "[encoded data removed]",
      "text/plain": [
       "<Figure size 1080x864 with 2 Axes>"
      ]
     },
     "metadata": {
      "needs_background": "light"
     },
     "output_type": "display_data"
    }
   ],
   "source": [
    "plt.figure(figsize=(15,12))\n",
    "sns.heatmap(round(df.describe()[1:].transpose(),2),linewidth=2,annot=True,fmt=\"f\")\n",
    "plt.xticks(fontsize=18)\n",
    "plt.yticks(fontsize=12)\n",
    "plt.title(\"Variables Summary\")\n",
    "plt.show()"
   ]
  },
  {
   "cell_type": "markdown",
   "id": "bb8d3d2b",
   "metadata": {},
   "source": [
    "# Outcome of describe datasets"
   ]
  },
  {
   "cell_type": "markdown",
   "id": "ac4d669d",
   "metadata": {},
   "source": [
    "Salary\n",
    "\n",
    "mean = 113706.460000\n",
    "std = 30289.040000\n",
    "min = 57800.000000\n",
    "max = 231545.000000"
   ]
  },
  {
   "cell_type": "markdown",
   "id": "1cd54b35",
   "metadata": {},
   "source": [
    "yrs.service\n",
    "\n",
    "mean = 17.610000\n",
    "std = 13.010000\n",
    "min = 0.000000\n",
    "max = 60.000000"
   ]
  },
  {
   "cell_type": "markdown",
   "id": "b212ff7d",
   "metadata": {},
   "source": [
    "yrs.since.phd\n",
    "\n",
    "mean = 22.310000\n",
    "std = 12.890000\n",
    "min = 1.000000\n",
    "max = 56.000000"
   ]
  },
  {
   "cell_type": "code",
   "execution_count": 45,
   "id": "887d2c7c",
   "metadata": {},
   "outputs": [
    {
     "name": "stdout",
     "output_type": "stream",
     "text": [
      "<class 'pandas.core.frame.DataFrame'>\n",
      "RangeIndex: 397 entries, 0 to 396\n",
      "Data columns (total 6 columns):\n",
      " #   Column         Non-Null Count  Dtype \n",
      "---  ------         --------------  ----- \n",
      " 0   rank           397 non-null    object\n",
      " 1   discipline     397 non-null    object\n",
      " 2   yrs.since.phd  397 non-null    int64 \n",
      " 3   yrs.service    397 non-null    int64 \n",
      " 4   sex            397 non-null    object\n",
      " 5   salary         397 non-null    int64 \n",
      "dtypes: int64(3), object(3)\n",
      "memory usage: 18.7+ KB\n"
     ]
    }
   ],
   "source": [
    "df.info()"
   ]
  },
  {
   "cell_type": "code",
   "execution_count": 46,
   "id": "61b053d8",
   "metadata": {},
   "outputs": [
    {
     "name": "stderr",
     "output_type": "stream",
     "text": [
      "C:\\Users\\Nirav\\AppData\\Local\\Temp/ipykernel_17376/1665899112.py:1: FutureWarning: Dropping of nuisance columns in DataFrame reductions (with 'numeric_only=None') is deprecated; in a future version this will raise TypeError.  Select only valid columns before calling the reduction.\n",
      "  df.skew()\n"
     ]
    },
    {
     "data": {
      "text/plain": [
       "yrs.since.phd    0.300880\n",
       "yrs.service      0.650569\n",
       "salary           0.714568\n",
       "dtype: float64"
      ]
     },
     "execution_count": 46,
     "metadata": {},
     "output_type": "execute_result"
    }
   ],
   "source": [
    "df.skew()"
   ]
  },
  {
   "cell_type": "code",
   "execution_count": 47,
   "id": "7314718c",
   "metadata": {},
   "outputs": [
    {
     "data": {
      "text/plain": [
       "<seaborn.axisgrid.FacetGrid at 0x2b2a7b01910>"
      ]
     },
     "execution_count": 47,
     "metadata": {},
     "output_type": "execute_result"
    },
    {
     "data": {
      "image/png": "[encoded data removed]",
      "text/plain": [
       "<Figure size 360x360 with 1 Axes>"
      ]
     },
     "metadata": {
      "needs_background": "light"
     },
     "output_type": "display_data"
    }
   ],
   "source": [
    "sns.displot(df[\"yrs.since.phd\"])"
   ]
  },
  {
   "cell_type": "code",
   "execution_count": 48,
   "id": "47d836f6",
   "metadata": {},
   "outputs": [
    {
     "data": {
      "text/plain": [
       "<seaborn.axisgrid.FacetGrid at 0x2b2a6244520>"
      ]
     },
     "execution_count": 48,
     "metadata": {},
     "output_type": "execute_result"
    },
    {
     "data": {
      "image/png": "[encoded data removed]",
      "text/plain": [
       "<Figure size 360x360 with 1 Axes>"
      ]
     },
     "metadata": {
      "needs_background": "light"
     },
     "output_type": "display_data"
    }
   ],
   "source": [
    "sns.displot(df[\"yrs.service\"])"
   ]
  },
  {
   "cell_type": "code",
   "execution_count": 49,
   "id": "89fcef9d",
   "metadata": {},
   "outputs": [
    {
     "data": {
      "text/plain": [
       "<seaborn.axisgrid.FacetGrid at 0x2b2a6a9a6a0>"
      ]
     },
     "execution_count": 49,
     "metadata": {},
     "output_type": "execute_result"
    },
    {
     "data": {
      "image/png": "[encoded data removed]",
      "text/plain": [
       "<Figure size 360x360 with 1 Axes>"
      ]
     },
     "metadata": {
      "needs_background": "light"
     },
     "output_type": "display_data"
    }
   ],
   "source": [
    "sns.displot(df[\"salary\"])"
   ]
  },
  {
   "cell_type": "code",
   "execution_count": 50,
   "id": "f4bfa9cd",
   "metadata": {},
   "outputs": [
    {
     "data": {
      "text/plain": [
       "<seaborn.axisgrid.FacetGrid at 0x2b2a68dbd30>"
      ]
     },
     "execution_count": 50,
     "metadata": {},
     "output_type": "execute_result"
    },
    {
     "data": {
      "image/png": "[encoded data removed]",
      "text/plain": [
       "<Figure size 360x360 with 1 Axes>"
      ]
     },
     "metadata": {
      "needs_background": "light"
     },
     "output_type": "display_data"
    }
   ],
   "source": [
    "sns.displot(df[\"rank\"])"
   ]
  },
  {
   "cell_type": "code",
   "execution_count": 51,
   "id": "43da4b0d",
   "metadata": {},
   "outputs": [
    {
     "data": {
      "text/plain": [
       "<seaborn.axisgrid.FacetGrid at 0x2b2a7bc0910>"
      ]
     },
     "execution_count": 51,
     "metadata": {},
     "output_type": "execute_result"
    },
    {
     "data": {
      "image/png": "[encoded data removed]",
      "text/plain": [
       "<Figure size 360x360 with 1 Axes>"
      ]
     },
     "metadata": {
      "needs_background": "light"
     },
     "output_type": "display_data"
    }
   ],
   "source": [
    "sns.displot(df[\"discipline\"])"
   ]
  },
  {
   "cell_type": "code",
   "execution_count": 52,
   "id": "37f2276d",
   "metadata": {},
   "outputs": [
    {
     "data": {
      "text/plain": [
       "<seaborn.axisgrid.FacetGrid at 0x2b2a7e95850>"
      ]
     },
     "execution_count": 52,
     "metadata": {},
     "output_type": "execute_result"
    },
    {
     "data": {
      "image/png": "[encoded data removed]",
      "text/plain": [
       "<Figure size 360x360 with 1 Axes>"
      ]
     },
     "metadata": {
      "needs_background": "light"
     },
     "output_type": "display_data"
    }
   ],
   "source": [
    "sns.displot(df[\"sex\"])"
   ]
  },
  {
   "cell_type": "code",
   "execution_count": null,
   "id": "892ad641",
   "metadata": {},
   "outputs": [],
   "source": []
  }
 ],
 "metadata": {
  "kernelspec": {
   "display_name": "Python 3 (ipykernel)",
   "language": "python",
   "name": "python3"
  },
  "language_info": {
   "codemirror_mode": {
    "name": "ipython",
    "version": 3
   },
   "file_extension": ".py",
   "mimetype": "text/x-python",
   "name": "python",
   "nbconvert_exporter": "python",
   "pygments_lexer": "ipython3",
   "version": "3.9.7"
  }
 },
 "nbformat": 4,
 "nbformat_minor": 5
}
