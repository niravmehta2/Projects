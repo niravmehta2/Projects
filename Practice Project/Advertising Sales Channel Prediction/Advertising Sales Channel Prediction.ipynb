{
 "cells": [
  {
   "cell_type": "code",
   "execution_count": 1,
   "id": "34d9728b",
   "metadata": {},
   "outputs": [],
   "source": [
    "import pandas as pd\n",
    "import numpy as np"
   ]
  },
  {
   "cell_type": "code",
   "execution_count": 2,
   "id": "eeb2b4a3",
   "metadata": {},
   "outputs": [],
   "source": [
    "df=pd.read_csv(\"https://raw.githubusercontent.com/dsrscientist/DSData/master/Advertising.csv\")"
   ]
  },
  {
   "cell_type": "code",
   "execution_count": 3,
   "id": "51d1f33a",
   "metadata": {},
   "outputs": [
    {
     "data": {
      "text/html": [
       "<div>\n",
       "<style scoped>\n",
       "    .dataframe tbody tr th:only-of-type {\n",
       "        vertical-align: middle;\n",
       "    }\n",
       "\n",
       "    .dataframe tbody tr th {\n",
       "        vertical-align: top;\n",
       "    }\n",
       "\n",
       "    .dataframe thead th {\n",
       "        text-align: right;\n",
       "    }\n",
       "</style>\n",
       "<table border=\"1\" class=\"dataframe\">\n",
       "  <thead>\n",
       "    <tr style=\"text-align: right;\">\n",
       "      <th></th>\n",
       "      <th>Unnamed: 0</th>\n",
       "      <th>TV</th>\n",
       "      <th>radio</th>\n",
       "      <th>newspaper</th>\n",
       "      <th>sales</th>\n",
       "    </tr>\n",
       "  </thead>\n",
       "  <tbody>\n",
       "    <tr>\n",
       "      <th>0</th>\n",
       "      <td>1</td>\n",
       "      <td>230.1</td>\n",
       "      <td>37.8</td>\n",
       "      <td>69.2</td>\n",
       "      <td>22.1</td>\n",
       "    </tr>\n",
       "    <tr>\n",
       "      <th>1</th>\n",
       "      <td>2</td>\n",
       "      <td>44.5</td>\n",
       "      <td>39.3</td>\n",
       "      <td>45.1</td>\n",
       "      <td>10.4</td>\n",
       "    </tr>\n",
       "    <tr>\n",
       "      <th>2</th>\n",
       "      <td>3</td>\n",
       "      <td>17.2</td>\n",
       "      <td>45.9</td>\n",
       "      <td>69.3</td>\n",
       "      <td>9.3</td>\n",
       "    </tr>\n",
       "    <tr>\n",
       "      <th>3</th>\n",
       "      <td>4</td>\n",
       "      <td>151.5</td>\n",
       "      <td>41.3</td>\n",
       "      <td>58.5</td>\n",
       "      <td>18.5</td>\n",
       "    </tr>\n",
       "    <tr>\n",
       "      <th>4</th>\n",
       "      <td>5</td>\n",
       "      <td>180.8</td>\n",
       "      <td>10.8</td>\n",
       "      <td>58.4</td>\n",
       "      <td>12.9</td>\n",
       "    </tr>\n",
       "    <tr>\n",
       "      <th>...</th>\n",
       "      <td>...</td>\n",
       "      <td>...</td>\n",
       "      <td>...</td>\n",
       "      <td>...</td>\n",
       "      <td>...</td>\n",
       "    </tr>\n",
       "    <tr>\n",
       "      <th>195</th>\n",
       "      <td>196</td>\n",
       "      <td>38.2</td>\n",
       "      <td>3.7</td>\n",
       "      <td>13.8</td>\n",
       "      <td>7.6</td>\n",
       "    </tr>\n",
       "    <tr>\n",
       "      <th>196</th>\n",
       "      <td>197</td>\n",
       "      <td>94.2</td>\n",
       "      <td>4.9</td>\n",
       "      <td>8.1</td>\n",
       "      <td>9.7</td>\n",
       "    </tr>\n",
       "    <tr>\n",
       "      <th>197</th>\n",
       "      <td>198</td>\n",
       "      <td>177.0</td>\n",
       "      <td>9.3</td>\n",
       "      <td>6.4</td>\n",
       "      <td>12.8</td>\n",
       "    </tr>\n",
       "    <tr>\n",
       "      <th>198</th>\n",
       "      <td>199</td>\n",
       "      <td>283.6</td>\n",
       "      <td>42.0</td>\n",
       "      <td>66.2</td>\n",
       "      <td>25.5</td>\n",
       "    </tr>\n",
       "    <tr>\n",
       "      <th>199</th>\n",
       "      <td>200</td>\n",
       "      <td>232.1</td>\n",
       "      <td>8.6</td>\n",
       "      <td>8.7</td>\n",
       "      <td>13.4</td>\n",
       "    </tr>\n",
       "  </tbody>\n",
       "</table>\n",
       "<p>200 rows × 5 columns</p>\n",
       "</div>"
      ],
      "text/plain": [
       "     Unnamed: 0     TV  radio  newspaper  sales\n",
       "0             1  230.1   37.8       69.2   22.1\n",
       "1             2   44.5   39.3       45.1   10.4\n",
       "2             3   17.2   45.9       69.3    9.3\n",
       "3             4  151.5   41.3       58.5   18.5\n",
       "4             5  180.8   10.8       58.4   12.9\n",
       "..          ...    ...    ...        ...    ...\n",
       "195         196   38.2    3.7       13.8    7.6\n",
       "196         197   94.2    4.9        8.1    9.7\n",
       "197         198  177.0    9.3        6.4   12.8\n",
       "198         199  283.6   42.0       66.2   25.5\n",
       "199         200  232.1    8.6        8.7   13.4\n",
       "\n",
       "[200 rows x 5 columns]"
      ]
     },
     "execution_count": 3,
     "metadata": {},
     "output_type": "execute_result"
    }
   ],
   "source": [
    "df"
   ]
  },
  {
   "cell_type": "code",
   "execution_count": 4,
   "id": "ee0509b0",
   "metadata": {},
   "outputs": [
    {
     "data": {
      "text/plain": [
       "Index(['Unnamed: 0', 'TV', 'radio', 'newspaper', 'sales'], dtype='object')"
      ]
     },
     "execution_count": 4,
     "metadata": {},
     "output_type": "execute_result"
    }
   ],
   "source": [
    "df.columns"
   ]
  },
  {
   "cell_type": "code",
   "execution_count": 5,
   "id": "1061ec27",
   "metadata": {},
   "outputs": [
    {
     "data": {
      "text/plain": [
       "Unnamed: 0    0\n",
       "TV            0\n",
       "radio         0\n",
       "newspaper     0\n",
       "sales         0\n",
       "dtype: int64"
      ]
     },
     "execution_count": 5,
     "metadata": {},
     "output_type": "execute_result"
    }
   ],
   "source": [
    "df.isnull().sum()"
   ]
  },
  {
   "cell_type": "markdown",
   "id": "5be685f6",
   "metadata": {},
   "source": [
    "# EDA\n",
    "Scatterplot"
   ]
  },
  {
   "cell_type": "code",
   "execution_count": 6,
   "id": "7920d783",
   "metadata": {},
   "outputs": [
    {
     "data": {
      "text/plain": [
       "<AxesSubplot:xlabel='TV', ylabel='sales'>"
      ]
     },
     "execution_count": 6,
     "metadata": {},
     "output_type": "execute_result"
    },
    {
     "data": {
      "image/png": "[encoded data removed]",
      "text/plain": [
       "<Figure size 432x288 with 1 Axes>"
      ]
     },
     "metadata": {
      "needs_background": "light"
     },
     "output_type": "display_data"
    }
   ],
   "source": [
    "import seaborn as sns\n",
    "sns.scatterplot(x=\"TV\",y=\"sales\",data=df)"
   ]
  },
  {
   "cell_type": "code",
   "execution_count": 8,
   "id": "a4158f02",
   "metadata": {},
   "outputs": [
    {
     "data": {
      "text/plain": [
       "<AxesSubplot:xlabel='radio', ylabel='sales'>"
      ]
     },
     "execution_count": 8,
     "metadata": {},
     "output_type": "execute_result"
    },
    {
     "data": {
      "image/png": "[encoded data removed]",
      "text/plain": [
       "<Figure size 432x288 with 1 Axes>"
      ]
     },
     "metadata": {
      "needs_background": "light"
     },
     "output_type": "display_data"
    }
   ],
   "source": [
    "import seaborn as sns\n",
    "sns.scatterplot(x=\"radio\",y=\"sales\",data=df)"
   ]
  },
  {
   "cell_type": "code",
   "execution_count": 9,
   "id": "7610791f",
   "metadata": {},
   "outputs": [
    {
     "data": {
      "text/plain": [
       "<AxesSubplot:xlabel='newspaper', ylabel='sales'>"
      ]
     },
     "execution_count": 9,
     "metadata": {},
     "output_type": "execute_result"
    },
    {
     "data": {
      "image/png": "[encoded data removed]",
      "text/plain": [
       "<Figure size 432x288 with 1 Axes>"
      ]
     },
     "metadata": {
      "needs_background": "light"
     },
     "output_type": "display_data"
    }
   ],
   "source": [
    "import seaborn as sns\n",
    "sns.scatterplot(x=\"newspaper\",y=\"sales\",data=df)"
   ]
  },
  {
   "cell_type": "markdown",
   "id": "c5b32ab5",
   "metadata": {},
   "source": [
    "# Correlation"
   ]
  },
  {
   "cell_type": "code",
   "execution_count": 10,
   "id": "ab879911",
   "metadata": {},
   "outputs": [
    {
     "data": {
      "text/html": [
       "<div>\n",
       "<style scoped>\n",
       "    .dataframe tbody tr th:only-of-type {\n",
       "        vertical-align: middle;\n",
       "    }\n",
       "\n",
       "    .dataframe tbody tr th {\n",
       "        vertical-align: top;\n",
       "    }\n",
       "\n",
       "    .dataframe thead th {\n",
       "        text-align: right;\n",
       "    }\n",
       "</style>\n",
       "<table border=\"1\" class=\"dataframe\">\n",
       "  <thead>\n",
       "    <tr style=\"text-align: right;\">\n",
       "      <th></th>\n",
       "      <th>Unnamed: 0</th>\n",
       "      <th>TV</th>\n",
       "      <th>radio</th>\n",
       "      <th>newspaper</th>\n",
       "      <th>sales</th>\n",
       "    </tr>\n",
       "  </thead>\n",
       "  <tbody>\n",
       "    <tr>\n",
       "      <th>Unnamed: 0</th>\n",
       "      <td>1.000000</td>\n",
       "      <td>0.017715</td>\n",
       "      <td>-0.110680</td>\n",
       "      <td>-0.154944</td>\n",
       "      <td>-0.051616</td>\n",
       "    </tr>\n",
       "    <tr>\n",
       "      <th>TV</th>\n",
       "      <td>0.017715</td>\n",
       "      <td>1.000000</td>\n",
       "      <td>0.054809</td>\n",
       "      <td>0.056648</td>\n",
       "      <td>0.782224</td>\n",
       "    </tr>\n",
       "    <tr>\n",
       "      <th>radio</th>\n",
       "      <td>-0.110680</td>\n",
       "      <td>0.054809</td>\n",
       "      <td>1.000000</td>\n",
       "      <td>0.354104</td>\n",
       "      <td>0.576223</td>\n",
       "    </tr>\n",
       "    <tr>\n",
       "      <th>newspaper</th>\n",
       "      <td>-0.154944</td>\n",
       "      <td>0.056648</td>\n",
       "      <td>0.354104</td>\n",
       "      <td>1.000000</td>\n",
       "      <td>0.228299</td>\n",
       "    </tr>\n",
       "    <tr>\n",
       "      <th>sales</th>\n",
       "      <td>-0.051616</td>\n",
       "      <td>0.782224</td>\n",
       "      <td>0.576223</td>\n",
       "      <td>0.228299</td>\n",
       "      <td>1.000000</td>\n",
       "    </tr>\n",
       "  </tbody>\n",
       "</table>\n",
       "</div>"
      ],
      "text/plain": [
       "            Unnamed: 0        TV     radio  newspaper     sales\n",
       "Unnamed: 0    1.000000  0.017715 -0.110680  -0.154944 -0.051616\n",
       "TV            0.017715  1.000000  0.054809   0.056648  0.782224\n",
       "radio        -0.110680  0.054809  1.000000   0.354104  0.576223\n",
       "newspaper    -0.154944  0.056648  0.354104   1.000000  0.228299\n",
       "sales        -0.051616  0.782224  0.576223   0.228299  1.000000"
      ]
     },
     "execution_count": 10,
     "metadata": {},
     "output_type": "execute_result"
    }
   ],
   "source": [
    "df.corr()"
   ]
  },
  {
   "cell_type": "code",
   "execution_count": 11,
   "id": "8d4c4230",
   "metadata": {},
   "outputs": [
    {
     "data": {
      "text/plain": [
       "<AxesSubplot:>"
      ]
     },
     "execution_count": 11,
     "metadata": {},
     "output_type": "execute_result"
    },
    {
     "data": {
      "image/png": "[encoded data removed]",
      "text/plain": [
       "<Figure size 1080x504 with 2 Axes>"
      ]
     },
     "metadata": {
      "needs_background": "light"
     },
     "output_type": "display_data"
    }
   ],
   "source": [
    "import matplotlib.pyplot as plt\n",
    "plt.figure(figsize=(15,7))\n",
    "sns.heatmap(df.corr(), annot=True, linewidth=0.5, linecolor=\"black\", fmt=\".2f\")"
   ]
  },
  {
   "cell_type": "markdown",
   "id": "40f638d0",
   "metadata": {},
   "source": [
    "# Outcome of Correlation\n",
    "All the columnsv of dataset is positivly correlated to the target columns\n",
    "\n",
    "max correlation with :- TV\n",
    "\n",
    "min correlation with :- newspaper"
   ]
  },
  {
   "cell_type": "markdown",
   "id": "3c6c1b85",
   "metadata": {},
   "source": [
    "# Describing Dataset"
   ]
  },
  {
   "cell_type": "code",
   "execution_count": 12,
   "id": "4fbc1982",
   "metadata": {},
   "outputs": [
    {
     "data": {
      "text/html": [
       "<div>\n",
       "<style scoped>\n",
       "    .dataframe tbody tr th:only-of-type {\n",
       "        vertical-align: middle;\n",
       "    }\n",
       "\n",
       "    .dataframe tbody tr th {\n",
       "        vertical-align: top;\n",
       "    }\n",
       "\n",
       "    .dataframe thead th {\n",
       "        text-align: right;\n",
       "    }\n",
       "</style>\n",
       "<table border=\"1\" class=\"dataframe\">\n",
       "  <thead>\n",
       "    <tr style=\"text-align: right;\">\n",
       "      <th></th>\n",
       "      <th>Unnamed: 0</th>\n",
       "      <th>TV</th>\n",
       "      <th>radio</th>\n",
       "      <th>newspaper</th>\n",
       "      <th>sales</th>\n",
       "    </tr>\n",
       "  </thead>\n",
       "  <tbody>\n",
       "    <tr>\n",
       "      <th>count</th>\n",
       "      <td>200.000000</td>\n",
       "      <td>200.000000</td>\n",
       "      <td>200.000000</td>\n",
       "      <td>200.000000</td>\n",
       "      <td>200.000000</td>\n",
       "    </tr>\n",
       "    <tr>\n",
       "      <th>mean</th>\n",
       "      <td>100.500000</td>\n",
       "      <td>147.042500</td>\n",
       "      <td>23.264000</td>\n",
       "      <td>30.554000</td>\n",
       "      <td>14.022500</td>\n",
       "    </tr>\n",
       "    <tr>\n",
       "      <th>std</th>\n",
       "      <td>57.879185</td>\n",
       "      <td>85.854236</td>\n",
       "      <td>14.846809</td>\n",
       "      <td>21.778621</td>\n",
       "      <td>5.217457</td>\n",
       "    </tr>\n",
       "    <tr>\n",
       "      <th>min</th>\n",
       "      <td>1.000000</td>\n",
       "      <td>0.700000</td>\n",
       "      <td>0.000000</td>\n",
       "      <td>0.300000</td>\n",
       "      <td>1.600000</td>\n",
       "    </tr>\n",
       "    <tr>\n",
       "      <th>25%</th>\n",
       "      <td>50.750000</td>\n",
       "      <td>74.375000</td>\n",
       "      <td>9.975000</td>\n",
       "      <td>12.750000</td>\n",
       "      <td>10.375000</td>\n",
       "    </tr>\n",
       "    <tr>\n",
       "      <th>50%</th>\n",
       "      <td>100.500000</td>\n",
       "      <td>149.750000</td>\n",
       "      <td>22.900000</td>\n",
       "      <td>25.750000</td>\n",
       "      <td>12.900000</td>\n",
       "    </tr>\n",
       "    <tr>\n",
       "      <th>75%</th>\n",
       "      <td>150.250000</td>\n",
       "      <td>218.825000</td>\n",
       "      <td>36.525000</td>\n",
       "      <td>45.100000</td>\n",
       "      <td>17.400000</td>\n",
       "    </tr>\n",
       "    <tr>\n",
       "      <th>max</th>\n",
       "      <td>200.000000</td>\n",
       "      <td>296.400000</td>\n",
       "      <td>49.600000</td>\n",
       "      <td>114.000000</td>\n",
       "      <td>27.000000</td>\n",
       "    </tr>\n",
       "  </tbody>\n",
       "</table>\n",
       "</div>"
      ],
      "text/plain": [
       "       Unnamed: 0          TV       radio   newspaper       sales\n",
       "count  200.000000  200.000000  200.000000  200.000000  200.000000\n",
       "mean   100.500000  147.042500   23.264000   30.554000   14.022500\n",
       "std     57.879185   85.854236   14.846809   21.778621    5.217457\n",
       "min      1.000000    0.700000    0.000000    0.300000    1.600000\n",
       "25%     50.750000   74.375000    9.975000   12.750000   10.375000\n",
       "50%    100.500000  149.750000   22.900000   25.750000   12.900000\n",
       "75%    150.250000  218.825000   36.525000   45.100000   17.400000\n",
       "max    200.000000  296.400000   49.600000  114.000000   27.000000"
      ]
     },
     "execution_count": 12,
     "metadata": {},
     "output_type": "execute_result"
    }
   ],
   "source": [
    "df.describe()"
   ]
  },
  {
   "cell_type": "code",
   "execution_count": 13,
   "id": "375d7a72",
   "metadata": {},
   "outputs": [
    {
     "data": {
      "image/png": "[encoded data removed]",
      "text/plain": [
       "<Figure size 1080x864 with 2 Axes>"
      ]
     },
     "metadata": {
      "needs_background": "light"
     },
     "output_type": "display_data"
    }
   ],
   "source": [
    "plt.figure(figsize=(15,12))\n",
    "sns.heatmap(round(df.describe()[1:].transpose(),2),linewidth=2,annot=True,fmt=\"f\")\n",
    "plt.xticks(fontsize=18)\n",
    "plt.yticks(fontsize=12)\n",
    "plt.title(\"Variables Summary\")\n",
    "plt.show()"
   ]
  },
  {
   "cell_type": "code",
   "execution_count": 14,
   "id": "23541f0a",
   "metadata": {},
   "outputs": [
    {
     "name": "stdout",
     "output_type": "stream",
     "text": [
      "<class 'pandas.core.frame.DataFrame'>\n",
      "RangeIndex: 200 entries, 0 to 199\n",
      "Data columns (total 5 columns):\n",
      " #   Column      Non-Null Count  Dtype  \n",
      "---  ------      --------------  -----  \n",
      " 0   Unnamed: 0  200 non-null    int64  \n",
      " 1   TV          200 non-null    float64\n",
      " 2   radio       200 non-null    float64\n",
      " 3   newspaper   200 non-null    float64\n",
      " 4   sales       200 non-null    float64\n",
      "dtypes: float64(4), int64(1)\n",
      "memory usage: 7.9 KB\n"
     ]
    }
   ],
   "source": [
    "df.info()"
   ]
  },
  {
   "cell_type": "markdown",
   "id": "d4cc93a3",
   "metadata": {},
   "source": [
    "# Outliers Checking:"
   ]
  },
  {
   "cell_type": "code",
   "execution_count": 15,
   "id": "1aa0c93e",
   "metadata": {},
   "outputs": [
    {
     "name": "stderr",
     "output_type": "stream",
     "text": [
      "C:\\Users\\Nirav\\anaconda3\\lib\\site-packages\\seaborn\\_decorators.py:36: FutureWarning: Pass the following variable as a keyword arg: x. From version 0.12, the only valid positional argument will be `data`, and passing other arguments without an explicit keyword will result in an error or misinterpretation.\n",
      "  warnings.warn(\n",
      "C:\\Users\\Nirav\\anaconda3\\lib\\site-packages\\seaborn\\_core.py:1326: UserWarning: Vertical orientation ignored with only `x` specified.\n",
      "  warnings.warn(single_var_warning.format(\"Vertical\", \"x\"))\n",
      "C:\\Users\\Nirav\\anaconda3\\lib\\site-packages\\seaborn\\_decorators.py:36: FutureWarning: Pass the following variable as a keyword arg: x. From version 0.12, the only valid positional argument will be `data`, and passing other arguments without an explicit keyword will result in an error or misinterpretation.\n",
      "  warnings.warn(\n",
      "C:\\Users\\Nirav\\anaconda3\\lib\\site-packages\\seaborn\\_core.py:1326: UserWarning: Vertical orientation ignored with only `x` specified.\n",
      "  warnings.warn(single_var_warning.format(\"Vertical\", \"x\"))\n",
      "C:\\Users\\Nirav\\anaconda3\\lib\\site-packages\\seaborn\\_decorators.py:36: FutureWarning: Pass the following variable as a keyword arg: x. From version 0.12, the only valid positional argument will be `data`, and passing other arguments without an explicit keyword will result in an error or misinterpretation.\n",
      "  warnings.warn(\n",
      "C:\\Users\\Nirav\\anaconda3\\lib\\site-packages\\seaborn\\_core.py:1326: UserWarning: Vertical orientation ignored with only `x` specified.\n",
      "  warnings.warn(single_var_warning.format(\"Vertical\", \"x\"))\n",
      "C:\\Users\\Nirav\\anaconda3\\lib\\site-packages\\seaborn\\_decorators.py:36: FutureWarning: Pass the following variable as a keyword arg: x. From version 0.12, the only valid positional argument will be `data`, and passing other arguments without an explicit keyword will result in an error or misinterpretation.\n",
      "  warnings.warn(\n",
      "C:\\Users\\Nirav\\anaconda3\\lib\\site-packages\\seaborn\\_core.py:1326: UserWarning: Vertical orientation ignored with only `x` specified.\n",
      "  warnings.warn(single_var_warning.format(\"Vertical\", \"x\"))\n",
      "C:\\Users\\Nirav\\anaconda3\\lib\\site-packages\\seaborn\\_decorators.py:36: FutureWarning: Pass the following variable as a keyword arg: x. From version 0.12, the only valid positional argument will be `data`, and passing other arguments without an explicit keyword will result in an error or misinterpretation.\n",
      "  warnings.warn(\n",
      "C:\\Users\\Nirav\\anaconda3\\lib\\site-packages\\seaborn\\_core.py:1326: UserWarning: Vertical orientation ignored with only `x` specified.\n",
      "  warnings.warn(single_var_warning.format(\"Vertical\", \"x\"))\n"
     ]
    },
    {
     "data": {
      "image/png": "[encoded data removed]",
      "text/plain": [
       "<Figure size 2160x6480 with 5 Axes>"
      ]
     },
     "metadata": {
      "needs_background": "light"
     },
     "output_type": "display_data"
    }
   ],
   "source": [
    "collist=df.columns.values\n",
    "ncol=30\n",
    "nrows=14\n",
    "plt.figure(figsize=(ncol,3*ncol))\n",
    "for i in range (0, len(collist)):\n",
    "    plt.subplot(nrows,ncol,i+1)\n",
    "    sns.boxplot(df[collist[i]],color='green',orient='v')\n",
    "    plt.tight_layout()"
   ]
  },
  {
   "cell_type": "markdown",
   "id": "0013d281",
   "metadata": {},
   "source": [
    "# Skewness"
   ]
  },
  {
   "cell_type": "code",
   "execution_count": 17,
   "id": "f4c9aca3",
   "metadata": {},
   "outputs": [
    {
     "data": {
      "text/plain": [
       "Unnamed: 0    0.000000\n",
       "TV           -0.069853\n",
       "radio         0.094175\n",
       "newspaper     0.894720\n",
       "sales         0.407571\n",
       "dtype: float64"
      ]
     },
     "execution_count": 17,
     "metadata": {},
     "output_type": "execute_result"
    }
   ],
   "source": [
    "df.skew()"
   ]
  },
  {
   "cell_type": "markdown",
   "id": "8a958858",
   "metadata": {},
   "source": [
    "# Normal Distribution Curve:"
   ]
  },
  {
   "cell_type": "code",
   "execution_count": 18,
   "id": "286c708d",
   "metadata": {},
   "outputs": [
    {
     "data": {
      "text/plain": [
       "<seaborn.axisgrid.FacetGrid at 0x1510e8cd460>"
      ]
     },
     "execution_count": 18,
     "metadata": {},
     "output_type": "execute_result"
    },
    {
     "data": {
      "image/png": "[encoded data removed]",
      "text/plain": [
       "<Figure size 360x360 with 1 Axes>"
      ]
     },
     "metadata": {
      "needs_background": "light"
     },
     "output_type": "display_data"
    }
   ],
   "source": [
    "sns.displot(df[\"TV\"])"
   ]
  },
  {
   "cell_type": "code",
   "execution_count": 19,
   "id": "040c3f87",
   "metadata": {},
   "outputs": [
    {
     "data": {
      "text/plain": [
       "<seaborn.axisgrid.FacetGrid at 0x1510edfa790>"
      ]
     },
     "execution_count": 19,
     "metadata": {},
     "output_type": "execute_result"
    },
    {
     "data": {
      "image/png": "[encoded data removed]",
      "text/plain": [
       "<Figure size 360x360 with 1 Axes>"
      ]
     },
     "metadata": {
      "needs_background": "light"
     },
     "output_type": "display_data"
    }
   ],
   "source": [
    "sns.displot(df[\"radio\"])"
   ]
  },
  {
   "cell_type": "code",
   "execution_count": 20,
   "id": "cbf1bf0f",
   "metadata": {},
   "outputs": [
    {
     "data": {
      "text/plain": [
       "<seaborn.axisgrid.FacetGrid at 0x1510edb4fd0>"
      ]
     },
     "execution_count": 20,
     "metadata": {},
     "output_type": "execute_result"
    },
    {
     "data": {
      "image/png": "[encoded data removed]",
      "text/plain": [
       "<Figure size 360x360 with 1 Axes>"
      ]
     },
     "metadata": {
      "needs_background": "light"
     },
     "output_type": "display_data"
    }
   ],
   "source": [
    "sns.displot(df[\"newspaper\"])"
   ]
  },
  {
   "cell_type": "markdown",
   "id": "2c1a855d",
   "metadata": {},
   "source": [
    "# Removing outliers:\n",
    "z-score Technique:"
   ]
  },
  {
   "cell_type": "code",
   "execution_count": 21,
   "id": "5e9f27c6",
   "metadata": {},
   "outputs": [
    {
     "data": {
      "text/plain": [
       "(200, 5)"
      ]
     },
     "execution_count": 21,
     "metadata": {},
     "output_type": "execute_result"
    }
   ],
   "source": [
    "from scipy.stats import zscore\n",
    "import numpy as np\n",
    "z=np.abs(zscore(df))\n",
    "z.shape"
   ]
  },
  {
   "cell_type": "code",
   "execution_count": 22,
   "id": "cee05e96",
   "metadata": {},
   "outputs": [
    {
     "name": "stdout",
     "output_type": "stream",
     "text": [
      "(array([ 16, 101], dtype=int64), array([3, 3], dtype=int64))\n"
     ]
    }
   ],
   "source": [
    "threshold=3\n",
    "print(np.where(z>3))"
   ]
  },
  {
   "cell_type": "code",
   "execution_count": 23,
   "id": "6f434e44",
   "metadata": {},
   "outputs": [
    {
     "name": "stdout",
     "output_type": "stream",
     "text": [
      "(200, 5)\n",
      "(198, 5)\n"
     ]
    }
   ],
   "source": [
    "df_new=df[(z<3).all(axis=1)]\n",
    "print(df.shape)\n",
    "print(df_new.shape)"
   ]
  },
  {
   "cell_type": "markdown",
   "id": "d6a1d25f",
   "metadata": {},
   "source": [
    "# Percentage data loss:"
   ]
  },
  {
   "cell_type": "code",
   "execution_count": 24,
   "id": "74690d56",
   "metadata": {},
   "outputs": [
    {
     "name": "stdout",
     "output_type": "stream",
     "text": [
      "1.0\n"
     ]
    }
   ],
   "source": [
    "loss_percent=(200-198)/200*100\n",
    "print(loss_percent)"
   ]
  },
  {
   "cell_type": "markdown",
   "id": "d28cf5de",
   "metadata": {},
   "source": [
    "# Model without outliers is df and model with desired outliers is df_new1"
   ]
  },
  {
   "cell_type": "code",
   "execution_count": 25,
   "id": "3984f5c6",
   "metadata": {},
   "outputs": [],
   "source": [
    "x=df_new.iloc[:,:-1]\n",
    "y=df_new.iloc[:,-1]"
   ]
  },
  {
   "cell_type": "markdown",
   "id": "a721b736",
   "metadata": {},
   "source": [
    "# Transforming data to remove skewness"
   ]
  },
  {
   "cell_type": "code",
   "execution_count": 27,
   "id": "27518c25",
   "metadata": {},
   "outputs": [],
   "source": [
    "from sklearn.preprocessing import power_transform\n",
    "x=power_transform(x,method='yeo-johnson')"
   ]
  },
  {
   "cell_type": "code",
   "execution_count": 28,
   "id": "393709d1",
   "metadata": {},
   "outputs": [
    {
     "data": {
      "text/plain": [
       "array([[-2.08112123,  0.95598306,  0.9691098 ,  1.6041965 ],\n",
       "       [-2.03541299, -1.19200349,  1.04623436,  0.83104401],\n",
       "       [-1.99380721, -1.6461253 ,  1.37296802,  1.60705249],\n",
       "       [-1.95500804,  0.14293428,  1.1473316 ,  1.28376774],\n",
       "       [-1.91830818,  0.45645241, -0.73502642,  1.28062154],\n",
       "       [-1.88326684, -1.8204008 ,  1.51543955,  1.76610727],\n",
       "       [-1.84958541, -1.00349358,  0.70309642, -0.10205346],\n",
       "       [-1.81704952, -0.20996049, -0.0876566 , -0.84968895],\n",
       "       [-1.78549851, -1.82264543, -1.62948287, -2.09866461],\n",
       "       [-1.754808  ,  0.652694  , -1.56152179, -0.22649933],\n",
       "       [-1.72487914, -0.88482761, -1.19258569, -0.06553382],\n",
       "       [-1.69563166,  0.80322028,  0.19357553, -1.59608414],\n",
       "       [-1.66699926, -1.52567125,  0.82725998,  1.50859232],\n",
       "       [-1.63892633, -0.48090308, -1.01613619, -1.23269654],\n",
       "       [-1.61136564,  0.69642374,  0.70856268,  0.86367455],\n",
       "       [-1.58427663,  0.60769456,  1.45886692,  1.1026083 ],\n",
       "       [-1.53137745,  1.44702338,  1.06152278,  1.19771741],\n",
       "       [-1.50550946, -0.84304109, -0.02834315, -0.39458775],\n",
       "       [-1.47999615,  0.09676151,  0.18741189, -0.346834  ],\n",
       "       [-1.45481611,  0.84017479,  0.41523303,  1.11921444],\n",
       "       [-1.42995011,  1.02746612, -1.2660875 , -0.10205346],\n",
       "       [-1.40538082, -1.72466475, -0.3430802 ,  0.99069777],\n",
       "       [-1.38109254,  0.93826742, -0.27204438,  0.0356758 ],\n",
       "       [-1.35707101, -0.93674187, -0.59023588, -0.39458775],\n",
       "       [-1.33330319,  1.27285397, -1.44792482, -0.32336998],\n",
       "       [-1.30977716,  0.04802388,  0.50756488, -0.7740548 ],\n",
       "       [-1.28648194,  1.05376032, -0.28612399, -0.13384051],\n",
       "       [-1.26340742,  1.13797152,  0.38008881, -0.13384051],\n",
       "       [-1.24054425, -0.82432769, -0.33590351,  0.66980347],\n",
       "       [-1.21788377,  1.55379249,  0.45008922,  0.76092313],\n",
       "       [-1.19541794, -0.29552539, -0.23711359,  0.58357284],\n",
       "       [-1.17313924, -0.48458608, -1.71704857,  0.21669702],\n",
       "       [-1.15104069,  1.29846636, -0.06117169, -2.2758464 ],\n",
       "       [-1.12911574, -0.50304519, -1.7324148 , -1.21299201],\n",
       "       [-1.10735826,  1.53345233, -1.3771472 , -1.10919482],\n",
       "       [-1.0857625 ,  1.31077419,  1.27109462, -1.4708598 ],\n",
       "       [-1.06432304, -0.77006157,  1.53885314,  0.85283827],\n",
       "       [-1.04303479, -1.21308859,  0.35649509,  0.44045973],\n",
       "       [-1.02189293,  0.93531131,  0.96392681,  0.30682057],\n",
       "       [-1.00089294,  0.68018031,  0.08742886,  0.28905461],\n",
       "       [-0.9800305 ,  0.4165774 ,  0.73579933,  0.58755182],\n",
       "       [-0.95930155,  1.56025605,  0.41523303, -1.93614969],\n",
       "       [-0.93870224,  0.72477076, -0.94246393,  0.04555612],\n",
       "       [-0.91822889, -1.50299171,  0.29691633,  0.76465678],\n",
       "       [-0.89787802,  0.39655706,  0.10007132,  0.2845934 ],\n",
       "       [-0.87764632, -0.5776425 , -0.81067203,  0.46554742],\n",
       "       [-0.85753062,  1.05181524,  1.15733673, -0.38254334],\n",
       "       [-0.83752792,  0.92742341, -0.35027362,  1.00104316],\n",
       "       [-0.81763533, -0.87399682, -0.66162053,  0.51093113],\n",
       "       [-0.79785012,  0.652694  , -1.49718987,  0.41936802],\n",
       "       [-0.77816964, -0.44544938, -0.83642883, -1.65023317],\n",
       "       [-0.75859139,  0.82021967,  1.16732335,  0.62310406],\n",
       "       [-0.73911296,  0.47526481,  1.38737344,  1.29005095],\n",
       "       [-0.71973204,  1.27095405,  0.47892195, -0.54515187],\n",
       "       [-0.7004464 ,  0.6435106 ,  1.53885314,  1.33059751],\n",
       "       [-0.68125392, -1.85241088,  0.43850198,  0.6928619 ],\n",
       "       [-0.66215257, -0.02694246, -0.11434473, -0.50002298],\n",
       "       [-0.64314036,  0.7640894 ,  1.54819296,  0.54749686],\n",
       "       [-0.62421541,  0.76308359,  0.51896989, -1.03801781],\n",
       "       [-0.6053759 , -1.06021399, -1.64357954, -0.21538949],\n",
       "       [-0.58662007,  1.25764412,  1.21698291,  1.16198054],\n",
       "       [-0.56794623,  1.04597746, -0.37195568,  0.08950799],\n",
       "       [-0.54935275, -0.41751811,  0.52466135, -1.11833294],\n",
       "       [-0.53083806, -0.08464536,  1.22192414,  0.16568658],\n",
       "       [-0.51240064, -0.84572231, -0.8624742 , -2.12148202],\n",
       "       [-0.49403901, -1.39528628,  0.23035564, -1.86501   ],\n",
       "       [-0.47575175,  0.00785902, -0.44537697, -0.96167639],\n",
       "       [-0.45753751,  1.02746612,  0.40355071, -0.89675177],\n",
       "       [-0.43939494,  0.8242145 ,  1.27598779,  0.08466485],\n",
       "       [-0.42132276,  0.64555228,  0.58117899,  0.58755182],\n",
       "       [-0.40331972, -0.33228945, -0.46028254,  0.29350789],\n",
       "       [-0.38538463, -1.47377148,  0.71402259, -0.33506848],\n",
       "       [-0.36751631, -0.10400761, -1.202897  ,  0.27564704],\n",
       "       [-0.34971362,  0.79019725,  0.23035564, -0.73744518],\n",
       "       [-0.33197546, -1.65184774,  1.26619715,  2.13937255],\n",
       "       [-0.31430078, -1.46187563, -1.70192244, -0.25453031],\n",
       "       [-0.29668853, -0.20647326,  0.46164538, -0.65947105],\n",
       "       [-0.2791377 , -1.89822804,  0.54169198, -1.02934918],\n",
       "       [-0.26164732, -0.25902053, -1.00678392, -0.12319395],\n",
       "       [-0.24421643, -0.74778651,  0.35649509, -0.16609367],\n",
       "       [-0.22684412,  1.05084254, -1.3771472 ,  0.51501874],\n",
       "       [-0.20952948, -0.76218508, -0.04143812,  0.32885333],\n",
       "       [-0.19227164, -0.85377796,  1.30525722,  0.46138274],\n",
       "       [-0.17506974,  0.79119975,  1.23179329,  0.38526098],\n",
       "       [-0.15792297,  0.58509675, -0.16835339,  1.50271112],\n",
       "       [-0.1408305 , -0.74909326,  0.40355071, -0.53863938],\n",
       "       [-0.12379156, -0.32158879,  1.11216604,  1.42831665],\n",
       "       [-0.10680538, -0.59523084,  0.28489586,  1.72217946],\n",
       "       [-0.08987121, -0.33228945,  1.4636021 ,  1.05224719],\n",
       "       [-0.07298832, -0.04837336, -1.28768913, -1.03801781],\n",
       "       [-0.05615601, -1.44333425, -1.71704857,  0.35069626],\n",
       "       [-0.03937357,  0.8331959 ,  0.74122791,  1.29945293],\n",
       "       [-0.02264034,  1.15818339,  0.90131402,  1.69166052],\n",
       "       [-0.00595566, -0.36093577, -0.4827855 , -0.90472726],\n",
       "       [ 0.01068113,  0.2709304 ,  0.63699688,  1.1026083 ],\n",
       "       [ 0.02727064,  0.63022667, -1.44792482, -1.36815587],\n",
       "       [ 0.0438135 ,  0.49923329,  0.00418624, -0.18240095],\n",
       "       [ 0.0603103 ,  1.52419364,  1.19717332,  1.04546953],\n",
       "       [ 0.07676164, -0.0382122 ,  1.16732335,  0.86006693],\n",
       "       [ 0.09316808,  0.87994389, -1.35429375,  0.99759864],\n",
       "       [ 0.1258485 ,  1.43581778, -0.79365568, -0.21538949],\n",
       "       [ 0.14212357,  0.53038105, -0.25104051, -0.41889554],\n",
       "       [ 0.15835592,  1.03526502,  0.78443582, -1.43568966],\n",
       "       [ 0.17454606, -0.00783277,  1.39695704,  1.29945293],\n",
       "       [ 0.19069448, -1.50472569, -0.71852874,  0.20289058],\n",
       "       [ 0.2068017 , -0.56887482, -1.92277996, -0.11788987],\n",
       "       [ 0.22286818, -1.72669682, -1.90334954,  0.00577961],\n",
       "       [ 0.23889439,  1.20134779,  0.36830859, -1.41277956],\n",
       "       [ 0.25488081,  0.91360226, -0.96064272,  1.22025052],\n",
       "       [ 0.27082788,  1.06930594,  0.97946003, -0.11788987],\n",
       "       [ 0.28673605,  0.40288531, -0.37921745, -1.83137048],\n",
       "       [ 0.30260575,  0.75201155, -0.02181365, -0.9207956 ],\n",
       "       [ 0.31843741, -0.72433929,  1.41607663,  0.41512911],\n",
       "       [ 0.33423145, -0.76480878,  0.82192754,  1.09594084],\n",
       "       [ 0.34998827,  0.00673953, -0.46028254,  0.00577961],\n",
       "       [ 0.36570828, -0.74778651, -1.83055994, -0.61831443],\n",
       "       [ 0.38139187, -0.14637764,  0.92227141,  1.87892616],\n",
       "       [ 0.39703943, -1.60487761, -0.33590351, -0.16609367],\n",
       "       [ 0.41265134,  0.03020546,  0.36240602,  0.87087647],\n",
       "       [ 0.42822797, -1.61600701,  0.04924266,  1.01820721],\n",
       "       [ 0.44376969,  0.89579959, -1.58822992, -0.56482448],\n",
       "       [ 0.45927685, -0.17634363,  0.8005392 , -0.78891695],\n",
       "       [ 0.47474981,  0.95008184,  0.67566908,  1.7442111 ],\n",
       "       [ 0.49018892, -0.60910057, -0.65359273,  0.02077604],\n",
       "       [ 0.50559451, -1.84082856,  1.02577993,  1.02504572],\n",
       "       [ 0.52096692, -0.69844865, -1.98495808, -1.04673537],\n",
       "       [ 0.53630647,  0.8590884 ,  1.52012963, -1.70718676],\n",
       "       [ 0.55161349, -0.97412104, -0.63761079,  0.75718457],\n",
       "       [ 0.56688829, -2.03323356,  1.06152278, -1.09108448],\n",
       "       [ 0.58213119,  1.2946762 , -1.52253007,  0.7534411 ],\n",
       "       [ 0.59734249, -1.82715302,  0.38596655, -1.88228781],\n",
       "       [ 0.6125225 ,  0.85411524,  0.74122791,  0.83104401],\n",
       "       [ 0.6276715 , -1.30867028,  1.0103861 ,  1.49976669],\n",
       "       [ 0.64278978, -1.13560137,  1.42561279, -1.10919482],\n",
       "       [ 0.65787764, -1.49434751,  1.03090107, -1.03801781],\n",
       "       [ 0.67293536,  1.37490294,  0.48466558,  1.32128542],\n",
       "       [ 0.6879632 , -1.21460127,  0.30890141, -0.2658475 ],\n",
       "       [ 0.70296145,  0.49923329,  1.27598779, -1.95484304],\n",
       "       [ 0.71793037, -0.78718324, -0.2650278 , -0.75199725],\n",
       "       [ 0.73287023,  0.59023843,  0.84322253,  1.78244184],\n",
       "       [ 0.74778127,  0.86107685,  0.72492349,  0.55555544],\n",
       "       [ 0.76266377, -0.39456576, -1.202897  ,  0.41088327],\n",
       "       [ 0.77751796, -0.49688394, -0.42315979,  0.59549238],\n",
       "       [ 0.7923441 ,  0.01904252, -1.65786243, -1.06432036],\n",
       "       [ 0.80714243,  1.05376032, -1.04445327, -1.09108448],\n",
       "       [ 0.82191319,  1.08385578,  1.52012963,  0.80172759],\n",
       "       [ 0.83665661, -1.29143203,  1.09702388, -0.82664429],\n",
       "       [ 0.85137293, -1.1890052 ,  0.30291327, -0.26018131],\n",
       "       [ 0.86606238,  1.44048829, -0.49032576,  0.51910011],\n",
       "       [ 0.88072518, -0.20066619, -0.94246393,  0.95944652],\n",
       "       [ 0.89536155,  0.63022667,  0.15022331, -0.65947105],\n",
       "       [ 0.90997171,  0.35634693,  1.06660903,  0.54749686],\n",
       "       [ 0.92455588,  0.52934487,  0.01065705, -1.02072873],\n",
       "       [ 0.93911428, -1.93163495, -0.66967326, -1.39027462],\n",
       "       [ 0.9536471 , -0.52529469,  1.25638925,  1.02162839],\n",
       "       [ 0.96815455,  0.12428563, -1.74803521, -0.06036496],\n",
       "       [ 0.98263685, -1.75555556,  0.92227141,  0.83468776],\n",
       "       [ 0.99709419, -0.07782712, -0.16835339,  0.41936802],\n",
       "       [ 1.01152676,  0.36906953, -0.18883181,  0.24861364],\n",
       "       [ 1.02593476, -0.62808655,  0.86442562,  0.98031676],\n",
       "       [ 1.04031839,  0.5355598 , -0.18883181,  0.00577961],\n",
       "       [ 1.05467784,  0.2730788 ,  0.91704026, -1.21299201],\n",
       "       [ 1.06901328, -0.24495734, -0.43054692, -1.42418272],\n",
       "       [ 1.08332491,  0.99913782, -1.46007371,  2.02414625],\n",
       "       [ 1.09761291, -1.63286723,  0.95873855, -0.20433701],\n",
       "       [ 1.11187745,  0.72376009, -1.25539136, -0.32921092],\n",
       "       [ 1.12611872,  0.81022423,  0.16886223,  1.25534066],\n",
       "       [ 1.14033688,  1.47405264, -0.75163452, -1.31443661],\n",
       "       [ 1.15453212, -1.11073781, -0.66967326, -0.38855655],\n",
       "       [ 1.16870459,  0.28381064, -0.00229617,  0.91372099],\n",
       "       [ 1.18285448, -1.60118681, -0.05458158, -0.47470116],\n",
       "       [ 1.19698193,  0.32550506, -1.06355551, -0.75931882],\n",
       "       [ 1.21108712,  0.87994389, -1.46007371, -0.73744518],\n",
       "       [ 1.22517021,  1.40493806,  1.51543955,  0.70812926],\n",
       "       [ 1.23923136,  1.13411664,  0.55865764, -0.27722588],\n",
       "       [ 1.25327072,  0.34466429, -0.99747386,  0.44465771],\n",
       "       [ 1.26728845,  1.40306351, -1.60181548, -0.09155822],\n",
       "       [ 1.28128471,  0.29559622, -0.80214864, -0.43732278],\n",
       "       [ 1.29525964,  0.19855946, -1.56152179, -1.12752759],\n",
       "       [ 1.30921339,  0.8411713 , -1.23420066,  0.09434122],\n",
       "       [ 1.32314611, -1.02181379, -1.202897  ,  0.20289058],\n",
       "       [ 1.33705795,  1.50472337,  1.23179329,  1.67770049],\n",
       "       [ 1.35094905,  1.18602318,  0.02356422,  0.21669702],\n",
       "       [ 1.36481956,  0.70554619,  1.33437513, -0.31754553],\n",
       "       [ 1.3786696 ,  0.01009737, -1.62948287,  0.05539471],\n",
       "       [ 1.39249933,  0.56346396,  0.47317073, -0.40063711],\n",
       "       [ 1.40630888,  1.48986416, -0.49032576, -1.63644784],\n",
       "       [ 1.42009838, -1.61787038, -0.62965614, -0.1073197 ],\n",
       "       [ 1.43386797, -1.26812741,  1.13730782, -1.3791681 ],\n",
       "       [ 1.44761778, -0.75956316, -0.73502642, -1.3572358 ],\n",
       "       [ 1.46134795, -1.6461253 , -1.3771472 ,  0.28905461],\n",
       "       [ 1.47505859,  0.30843016,  1.18226883, -1.65023317],\n",
       "       [ 1.48874984,  0.12318696,  0.85383548, -1.3572358 ],\n",
       "       [ 1.50242183, -1.28831146, -1.42394128, -0.68743455],\n",
       "       [ 1.51607467, -0.52157887, -1.28768913, -1.14609038],\n",
       "       [ 1.5297085 ,  0.4165774 , -0.8624742 , -1.31443661],\n",
       "       [ 1.54332343,  1.4675349 ,  1.18226883,  1.51739504],\n",
       "       [ 1.55691958,  0.97562509, -0.92443675, -1.09108448]])"
      ]
     },
     "execution_count": 28,
     "metadata": {},
     "output_type": "execute_result"
    }
   ],
   "source": [
    "x"
   ]
  },
  {
   "cell_type": "code",
   "execution_count": 29,
   "id": "3f60eadf",
   "metadata": {},
   "outputs": [
    {
     "data": {
      "text/plain": [
       "array([[-2.08112123,  0.95598306,  0.9691098 ,  1.6041965 ],\n",
       "       [-2.03541299, -1.19200349,  1.04623436,  0.83104401],\n",
       "       [-1.99380721, -1.6461253 ,  1.37296802,  1.60705249],\n",
       "       [-1.95500804,  0.14293428,  1.1473316 ,  1.28376774],\n",
       "       [-1.91830818,  0.45645241, -0.73502642,  1.28062154],\n",
       "       [-1.88326684, -1.8204008 ,  1.51543955,  1.76610727],\n",
       "       [-1.84958541, -1.00349358,  0.70309642, -0.10205346],\n",
       "       [-1.81704952, -0.20996049, -0.0876566 , -0.84968895],\n",
       "       [-1.78549851, -1.82264543, -1.62948287, -2.09866461],\n",
       "       [-1.754808  ,  0.652694  , -1.56152179, -0.22649933],\n",
       "       [-1.72487914, -0.88482761, -1.19258569, -0.06553382],\n",
       "       [-1.69563166,  0.80322028,  0.19357553, -1.59608414],\n",
       "       [-1.66699926, -1.52567125,  0.82725998,  1.50859232],\n",
       "       [-1.63892633, -0.48090308, -1.01613619, -1.23269654],\n",
       "       [-1.61136564,  0.69642374,  0.70856268,  0.86367455],\n",
       "       [-1.58427663,  0.60769456,  1.45886692,  1.1026083 ],\n",
       "       [-1.53137745,  1.44702338,  1.06152278,  1.19771741],\n",
       "       [-1.50550946, -0.84304109, -0.02834315, -0.39458775],\n",
       "       [-1.47999615,  0.09676151,  0.18741189, -0.346834  ],\n",
       "       [-1.45481611,  0.84017479,  0.41523303,  1.11921444],\n",
       "       [-1.42995011,  1.02746612, -1.2660875 , -0.10205346],\n",
       "       [-1.40538082, -1.72466475, -0.3430802 ,  0.99069777],\n",
       "       [-1.38109254,  0.93826742, -0.27204438,  0.0356758 ],\n",
       "       [-1.35707101, -0.93674187, -0.59023588, -0.39458775],\n",
       "       [-1.33330319,  1.27285397, -1.44792482, -0.32336998],\n",
       "       [-1.30977716,  0.04802388,  0.50756488, -0.7740548 ],\n",
       "       [-1.28648194,  1.05376032, -0.28612399, -0.13384051],\n",
       "       [-1.26340742,  1.13797152,  0.38008881, -0.13384051],\n",
       "       [-1.24054425, -0.82432769, -0.33590351,  0.66980347],\n",
       "       [-1.21788377,  1.55379249,  0.45008922,  0.76092313],\n",
       "       [-1.19541794, -0.29552539, -0.23711359,  0.58357284],\n",
       "       [-1.17313924, -0.48458608, -1.71704857,  0.21669702],\n",
       "       [-1.15104069,  1.29846636, -0.06117169, -2.2758464 ],\n",
       "       [-1.12911574, -0.50304519, -1.7324148 , -1.21299201],\n",
       "       [-1.10735826,  1.53345233, -1.3771472 , -1.10919482],\n",
       "       [-1.0857625 ,  1.31077419,  1.27109462, -1.4708598 ],\n",
       "       [-1.06432304, -0.77006157,  1.53885314,  0.85283827],\n",
       "       [-1.04303479, -1.21308859,  0.35649509,  0.44045973],\n",
       "       [-1.02189293,  0.93531131,  0.96392681,  0.30682057],\n",
       "       [-1.00089294,  0.68018031,  0.08742886,  0.28905461],\n",
       "       [-0.9800305 ,  0.4165774 ,  0.73579933,  0.58755182],\n",
       "       [-0.95930155,  1.56025605,  0.41523303, -1.93614969],\n",
       "       [-0.93870224,  0.72477076, -0.94246393,  0.04555612],\n",
       "       [-0.91822889, -1.50299171,  0.29691633,  0.76465678],\n",
       "       [-0.89787802,  0.39655706,  0.10007132,  0.2845934 ],\n",
       "       [-0.87764632, -0.5776425 , -0.81067203,  0.46554742],\n",
       "       [-0.85753062,  1.05181524,  1.15733673, -0.38254334],\n",
       "       [-0.83752792,  0.92742341, -0.35027362,  1.00104316],\n",
       "       [-0.81763533, -0.87399682, -0.66162053,  0.51093113],\n",
       "       [-0.79785012,  0.652694  , -1.49718987,  0.41936802],\n",
       "       [-0.77816964, -0.44544938, -0.83642883, -1.65023317],\n",
       "       [-0.75859139,  0.82021967,  1.16732335,  0.62310406],\n",
       "       [-0.73911296,  0.47526481,  1.38737344,  1.29005095],\n",
       "       [-0.71973204,  1.27095405,  0.47892195, -0.54515187],\n",
       "       [-0.7004464 ,  0.6435106 ,  1.53885314,  1.33059751],\n",
       "       [-0.68125392, -1.85241088,  0.43850198,  0.6928619 ],\n",
       "       [-0.66215257, -0.02694246, -0.11434473, -0.50002298],\n",
       "       [-0.64314036,  0.7640894 ,  1.54819296,  0.54749686],\n",
       "       [-0.62421541,  0.76308359,  0.51896989, -1.03801781],\n",
       "       [-0.6053759 , -1.06021399, -1.64357954, -0.21538949],\n",
       "       [-0.58662007,  1.25764412,  1.21698291,  1.16198054],\n",
       "       [-0.56794623,  1.04597746, -0.37195568,  0.08950799],\n",
       "       [-0.54935275, -0.41751811,  0.52466135, -1.11833294],\n",
       "       [-0.53083806, -0.08464536,  1.22192414,  0.16568658],\n",
       "       [-0.51240064, -0.84572231, -0.8624742 , -2.12148202],\n",
       "       [-0.49403901, -1.39528628,  0.23035564, -1.86501   ],\n",
       "       [-0.47575175,  0.00785902, -0.44537697, -0.96167639],\n",
       "       [-0.45753751,  1.02746612,  0.40355071, -0.89675177],\n",
       "       [-0.43939494,  0.8242145 ,  1.27598779,  0.08466485],\n",
       "       [-0.42132276,  0.64555228,  0.58117899,  0.58755182],\n",
       "       [-0.40331972, -0.33228945, -0.46028254,  0.29350789],\n",
       "       [-0.38538463, -1.47377148,  0.71402259, -0.33506848],\n",
       "       [-0.36751631, -0.10400761, -1.202897  ,  0.27564704],\n",
       "       [-0.34971362,  0.79019725,  0.23035564, -0.73744518],\n",
       "       [-0.33197546, -1.65184774,  1.26619715,  2.13937255],\n",
       "       [-0.31430078, -1.46187563, -1.70192244, -0.25453031],\n",
       "       [-0.29668853, -0.20647326,  0.46164538, -0.65947105],\n",
       "       [-0.2791377 , -1.89822804,  0.54169198, -1.02934918],\n",
       "       [-0.26164732, -0.25902053, -1.00678392, -0.12319395],\n",
       "       [-0.24421643, -0.74778651,  0.35649509, -0.16609367],\n",
       "       [-0.22684412,  1.05084254, -1.3771472 ,  0.51501874],\n",
       "       [-0.20952948, -0.76218508, -0.04143812,  0.32885333],\n",
       "       [-0.19227164, -0.85377796,  1.30525722,  0.46138274],\n",
       "       [-0.17506974,  0.79119975,  1.23179329,  0.38526098],\n",
       "       [-0.15792297,  0.58509675, -0.16835339,  1.50271112],\n",
       "       [-0.1408305 , -0.74909326,  0.40355071, -0.53863938],\n",
       "       [-0.12379156, -0.32158879,  1.11216604,  1.42831665],\n",
       "       [-0.10680538, -0.59523084,  0.28489586,  1.72217946],\n",
       "       [-0.08987121, -0.33228945,  1.4636021 ,  1.05224719],\n",
       "       [-0.07298832, -0.04837336, -1.28768913, -1.03801781],\n",
       "       [-0.05615601, -1.44333425, -1.71704857,  0.35069626],\n",
       "       [-0.03937357,  0.8331959 ,  0.74122791,  1.29945293],\n",
       "       [-0.02264034,  1.15818339,  0.90131402,  1.69166052],\n",
       "       [-0.00595566, -0.36093577, -0.4827855 , -0.90472726],\n",
       "       [ 0.01068113,  0.2709304 ,  0.63699688,  1.1026083 ],\n",
       "       [ 0.02727064,  0.63022667, -1.44792482, -1.36815587],\n",
       "       [ 0.0438135 ,  0.49923329,  0.00418624, -0.18240095],\n",
       "       [ 0.0603103 ,  1.52419364,  1.19717332,  1.04546953],\n",
       "       [ 0.07676164, -0.0382122 ,  1.16732335,  0.86006693],\n",
       "       [ 0.09316808,  0.87994389, -1.35429375,  0.99759864],\n",
       "       [ 0.1258485 ,  1.43581778, -0.79365568, -0.21538949],\n",
       "       [ 0.14212357,  0.53038105, -0.25104051, -0.41889554],\n",
       "       [ 0.15835592,  1.03526502,  0.78443582, -1.43568966],\n",
       "       [ 0.17454606, -0.00783277,  1.39695704,  1.29945293],\n",
       "       [ 0.19069448, -1.50472569, -0.71852874,  0.20289058],\n",
       "       [ 0.2068017 , -0.56887482, -1.92277996, -0.11788987],\n",
       "       [ 0.22286818, -1.72669682, -1.90334954,  0.00577961],\n",
       "       [ 0.23889439,  1.20134779,  0.36830859, -1.41277956],\n",
       "       [ 0.25488081,  0.91360226, -0.96064272,  1.22025052],\n",
       "       [ 0.27082788,  1.06930594,  0.97946003, -0.11788987],\n",
       "       [ 0.28673605,  0.40288531, -0.37921745, -1.83137048],\n",
       "       [ 0.30260575,  0.75201155, -0.02181365, -0.9207956 ],\n",
       "       [ 0.31843741, -0.72433929,  1.41607663,  0.41512911],\n",
       "       [ 0.33423145, -0.76480878,  0.82192754,  1.09594084],\n",
       "       [ 0.34998827,  0.00673953, -0.46028254,  0.00577961],\n",
       "       [ 0.36570828, -0.74778651, -1.83055994, -0.61831443],\n",
       "       [ 0.38139187, -0.14637764,  0.92227141,  1.87892616],\n",
       "       [ 0.39703943, -1.60487761, -0.33590351, -0.16609367],\n",
       "       [ 0.41265134,  0.03020546,  0.36240602,  0.87087647],\n",
       "       [ 0.42822797, -1.61600701,  0.04924266,  1.01820721],\n",
       "       [ 0.44376969,  0.89579959, -1.58822992, -0.56482448],\n",
       "       [ 0.45927685, -0.17634363,  0.8005392 , -0.78891695],\n",
       "       [ 0.47474981,  0.95008184,  0.67566908,  1.7442111 ],\n",
       "       [ 0.49018892, -0.60910057, -0.65359273,  0.02077604],\n",
       "       [ 0.50559451, -1.84082856,  1.02577993,  1.02504572],\n",
       "       [ 0.52096692, -0.69844865, -1.98495808, -1.04673537],\n",
       "       [ 0.53630647,  0.8590884 ,  1.52012963, -1.70718676],\n",
       "       [ 0.55161349, -0.97412104, -0.63761079,  0.75718457],\n",
       "       [ 0.56688829, -2.03323356,  1.06152278, -1.09108448],\n",
       "       [ 0.58213119,  1.2946762 , -1.52253007,  0.7534411 ],\n",
       "       [ 0.59734249, -1.82715302,  0.38596655, -1.88228781],\n",
       "       [ 0.6125225 ,  0.85411524,  0.74122791,  0.83104401],\n",
       "       [ 0.6276715 , -1.30867028,  1.0103861 ,  1.49976669],\n",
       "       [ 0.64278978, -1.13560137,  1.42561279, -1.10919482],\n",
       "       [ 0.65787764, -1.49434751,  1.03090107, -1.03801781],\n",
       "       [ 0.67293536,  1.37490294,  0.48466558,  1.32128542],\n",
       "       [ 0.6879632 , -1.21460127,  0.30890141, -0.2658475 ],\n",
       "       [ 0.70296145,  0.49923329,  1.27598779, -1.95484304],\n",
       "       [ 0.71793037, -0.78718324, -0.2650278 , -0.75199725],\n",
       "       [ 0.73287023,  0.59023843,  0.84322253,  1.78244184],\n",
       "       [ 0.74778127,  0.86107685,  0.72492349,  0.55555544],\n",
       "       [ 0.76266377, -0.39456576, -1.202897  ,  0.41088327],\n",
       "       [ 0.77751796, -0.49688394, -0.42315979,  0.59549238],\n",
       "       [ 0.7923441 ,  0.01904252, -1.65786243, -1.06432036],\n",
       "       [ 0.80714243,  1.05376032, -1.04445327, -1.09108448],\n",
       "       [ 0.82191319,  1.08385578,  1.52012963,  0.80172759],\n",
       "       [ 0.83665661, -1.29143203,  1.09702388, -0.82664429],\n",
       "       [ 0.85137293, -1.1890052 ,  0.30291327, -0.26018131],\n",
       "       [ 0.86606238,  1.44048829, -0.49032576,  0.51910011],\n",
       "       [ 0.88072518, -0.20066619, -0.94246393,  0.95944652],\n",
       "       [ 0.89536155,  0.63022667,  0.15022331, -0.65947105],\n",
       "       [ 0.90997171,  0.35634693,  1.06660903,  0.54749686],\n",
       "       [ 0.92455588,  0.52934487,  0.01065705, -1.02072873],\n",
       "       [ 0.93911428, -1.93163495, -0.66967326, -1.39027462],\n",
       "       [ 0.9536471 , -0.52529469,  1.25638925,  1.02162839],\n",
       "       [ 0.96815455,  0.12428563, -1.74803521, -0.06036496],\n",
       "       [ 0.98263685, -1.75555556,  0.92227141,  0.83468776],\n",
       "       [ 0.99709419, -0.07782712, -0.16835339,  0.41936802],\n",
       "       [ 1.01152676,  0.36906953, -0.18883181,  0.24861364],\n",
       "       [ 1.02593476, -0.62808655,  0.86442562,  0.98031676],\n",
       "       [ 1.04031839,  0.5355598 , -0.18883181,  0.00577961],\n",
       "       [ 1.05467784,  0.2730788 ,  0.91704026, -1.21299201],\n",
       "       [ 1.06901328, -0.24495734, -0.43054692, -1.42418272],\n",
       "       [ 1.08332491,  0.99913782, -1.46007371,  2.02414625],\n",
       "       [ 1.09761291, -1.63286723,  0.95873855, -0.20433701],\n",
       "       [ 1.11187745,  0.72376009, -1.25539136, -0.32921092],\n",
       "       [ 1.12611872,  0.81022423,  0.16886223,  1.25534066],\n",
       "       [ 1.14033688,  1.47405264, -0.75163452, -1.31443661],\n",
       "       [ 1.15453212, -1.11073781, -0.66967326, -0.38855655],\n",
       "       [ 1.16870459,  0.28381064, -0.00229617,  0.91372099],\n",
       "       [ 1.18285448, -1.60118681, -0.05458158, -0.47470116],\n",
       "       [ 1.19698193,  0.32550506, -1.06355551, -0.75931882],\n",
       "       [ 1.21108712,  0.87994389, -1.46007371, -0.73744518],\n",
       "       [ 1.22517021,  1.40493806,  1.51543955,  0.70812926],\n",
       "       [ 1.23923136,  1.13411664,  0.55865764, -0.27722588],\n",
       "       [ 1.25327072,  0.34466429, -0.99747386,  0.44465771],\n",
       "       [ 1.26728845,  1.40306351, -1.60181548, -0.09155822],\n",
       "       [ 1.28128471,  0.29559622, -0.80214864, -0.43732278],\n",
       "       [ 1.29525964,  0.19855946, -1.56152179, -1.12752759],\n",
       "       [ 1.30921339,  0.8411713 , -1.23420066,  0.09434122],\n",
       "       [ 1.32314611, -1.02181379, -1.202897  ,  0.20289058],\n",
       "       [ 1.33705795,  1.50472337,  1.23179329,  1.67770049],\n",
       "       [ 1.35094905,  1.18602318,  0.02356422,  0.21669702],\n",
       "       [ 1.36481956,  0.70554619,  1.33437513, -0.31754553],\n",
       "       [ 1.3786696 ,  0.01009737, -1.62948287,  0.05539471],\n",
       "       [ 1.39249933,  0.56346396,  0.47317073, -0.40063711],\n",
       "       [ 1.40630888,  1.48986416, -0.49032576, -1.63644784],\n",
       "       [ 1.42009838, -1.61787038, -0.62965614, -0.1073197 ],\n",
       "       [ 1.43386797, -1.26812741,  1.13730782, -1.3791681 ],\n",
       "       [ 1.44761778, -0.75956316, -0.73502642, -1.3572358 ],\n",
       "       [ 1.46134795, -1.6461253 , -1.3771472 ,  0.28905461],\n",
       "       [ 1.47505859,  0.30843016,  1.18226883, -1.65023317],\n",
       "       [ 1.48874984,  0.12318696,  0.85383548, -1.3572358 ],\n",
       "       [ 1.50242183, -1.28831146, -1.42394128, -0.68743455],\n",
       "       [ 1.51607467, -0.52157887, -1.28768913, -1.14609038],\n",
       "       [ 1.5297085 ,  0.4165774 , -0.8624742 , -1.31443661],\n",
       "       [ 1.54332343,  1.4675349 ,  1.18226883,  1.51739504],\n",
       "       [ 1.55691958,  0.97562509, -0.92443675, -1.09108448]])"
      ]
     },
     "execution_count": 29,
     "metadata": {},
     "output_type": "execute_result"
    }
   ],
   "source": [
    "from sklearn.preprocessing import StandardScaler\n",
    "sc=StandardScaler()\n",
    "x=sc.fit_transform(x)\n",
    "x"
   ]
  },
  {
   "cell_type": "markdown",
   "id": "38cede5e",
   "metadata": {},
   "source": [
    "# Since the outcome has only two variable we willuse binary classification model"
   ]
  },
  {
   "cell_type": "code",
   "execution_count": 30,
   "id": "da9e8199",
   "metadata": {},
   "outputs": [],
   "source": [
    "from sklearn.model_selection import train_test_split\n",
    "from sklearn.linear_model import LogisticRegression\n",
    "lr=LogisticRegression()\n",
    "from sklearn.metrics import accuracy_score"
   ]
  },
  {
   "cell_type": "markdown",
   "id": "311ccf69",
   "metadata": {},
   "source": [
    "# Encoding of Dataframe"
   ]
  },
  {
   "cell_type": "code",
   "execution_count": 38,
   "id": "0f47d0cc",
   "metadata": {},
   "outputs": [],
   "source": [
    "from sklearn.preprocessing import OrdinalEncoder\n",
    "enc=OrdinalEncoder()"
   ]
  },
  {
   "cell_type": "code",
   "execution_count": 39,
   "id": "16bf381e",
   "metadata": {},
   "outputs": [],
   "source": [
    "for i in df.columns:\n",
    "    if df[i].dtypes==\"object\":\n",
    "        df[i]=enc.fit_transform(df[i].values.reshape(-1,1))"
   ]
  },
  {
   "cell_type": "code",
   "execution_count": 40,
   "id": "d76f6020",
   "metadata": {},
   "outputs": [
    {
     "data": {
      "text/html": [
       "<div>\n",
       "<style scoped>\n",
       "    .dataframe tbody tr th:only-of-type {\n",
       "        vertical-align: middle;\n",
       "    }\n",
       "\n",
       "    .dataframe tbody tr th {\n",
       "        vertical-align: top;\n",
       "    }\n",
       "\n",
       "    .dataframe thead th {\n",
       "        text-align: right;\n",
       "    }\n",
       "</style>\n",
       "<table border=\"1\" class=\"dataframe\">\n",
       "  <thead>\n",
       "    <tr style=\"text-align: right;\">\n",
       "      <th></th>\n",
       "      <th>Unnamed: 0</th>\n",
       "      <th>TV</th>\n",
       "      <th>radio</th>\n",
       "      <th>newspaper</th>\n",
       "      <th>sales</th>\n",
       "    </tr>\n",
       "  </thead>\n",
       "  <tbody>\n",
       "    <tr>\n",
       "      <th>0</th>\n",
       "      <td>1</td>\n",
       "      <td>230.1</td>\n",
       "      <td>37.8</td>\n",
       "      <td>69.2</td>\n",
       "      <td>22.1</td>\n",
       "    </tr>\n",
       "    <tr>\n",
       "      <th>1</th>\n",
       "      <td>2</td>\n",
       "      <td>44.5</td>\n",
       "      <td>39.3</td>\n",
       "      <td>45.1</td>\n",
       "      <td>10.4</td>\n",
       "    </tr>\n",
       "    <tr>\n",
       "      <th>2</th>\n",
       "      <td>3</td>\n",
       "      <td>17.2</td>\n",
       "      <td>45.9</td>\n",
       "      <td>69.3</td>\n",
       "      <td>9.3</td>\n",
       "    </tr>\n",
       "    <tr>\n",
       "      <th>3</th>\n",
       "      <td>4</td>\n",
       "      <td>151.5</td>\n",
       "      <td>41.3</td>\n",
       "      <td>58.5</td>\n",
       "      <td>18.5</td>\n",
       "    </tr>\n",
       "    <tr>\n",
       "      <th>4</th>\n",
       "      <td>5</td>\n",
       "      <td>180.8</td>\n",
       "      <td>10.8</td>\n",
       "      <td>58.4</td>\n",
       "      <td>12.9</td>\n",
       "    </tr>\n",
       "    <tr>\n",
       "      <th>...</th>\n",
       "      <td>...</td>\n",
       "      <td>...</td>\n",
       "      <td>...</td>\n",
       "      <td>...</td>\n",
       "      <td>...</td>\n",
       "    </tr>\n",
       "    <tr>\n",
       "      <th>195</th>\n",
       "      <td>196</td>\n",
       "      <td>38.2</td>\n",
       "      <td>3.7</td>\n",
       "      <td>13.8</td>\n",
       "      <td>7.6</td>\n",
       "    </tr>\n",
       "    <tr>\n",
       "      <th>196</th>\n",
       "      <td>197</td>\n",
       "      <td>94.2</td>\n",
       "      <td>4.9</td>\n",
       "      <td>8.1</td>\n",
       "      <td>9.7</td>\n",
       "    </tr>\n",
       "    <tr>\n",
       "      <th>197</th>\n",
       "      <td>198</td>\n",
       "      <td>177.0</td>\n",
       "      <td>9.3</td>\n",
       "      <td>6.4</td>\n",
       "      <td>12.8</td>\n",
       "    </tr>\n",
       "    <tr>\n",
       "      <th>198</th>\n",
       "      <td>199</td>\n",
       "      <td>283.6</td>\n",
       "      <td>42.0</td>\n",
       "      <td>66.2</td>\n",
       "      <td>25.5</td>\n",
       "    </tr>\n",
       "    <tr>\n",
       "      <th>199</th>\n",
       "      <td>200</td>\n",
       "      <td>232.1</td>\n",
       "      <td>8.6</td>\n",
       "      <td>8.7</td>\n",
       "      <td>13.4</td>\n",
       "    </tr>\n",
       "  </tbody>\n",
       "</table>\n",
       "<p>200 rows × 5 columns</p>\n",
       "</div>"
      ],
      "text/plain": [
       "     Unnamed: 0     TV  radio  newspaper  sales\n",
       "0             1  230.1   37.8       69.2   22.1\n",
       "1             2   44.5   39.3       45.1   10.4\n",
       "2             3   17.2   45.9       69.3    9.3\n",
       "3             4  151.5   41.3       58.5   18.5\n",
       "4             5  180.8   10.8       58.4   12.9\n",
       "..          ...    ...    ...        ...    ...\n",
       "195         196   38.2    3.7       13.8    7.6\n",
       "196         197   94.2    4.9        8.1    9.7\n",
       "197         198  177.0    9.3        6.4   12.8\n",
       "198         199  283.6   42.0       66.2   25.5\n",
       "199         200  232.1    8.6        8.7   13.4\n",
       "\n",
       "[200 rows x 5 columns]"
      ]
     },
     "execution_count": 40,
     "metadata": {},
     "output_type": "execute_result"
    }
   ],
   "source": [
    "df"
   ]
  },
  {
   "cell_type": "markdown",
   "id": "e31ee1c9",
   "metadata": {},
   "source": [
    "# Describe the dataset"
   ]
  },
  {
   "cell_type": "code",
   "execution_count": 41,
   "id": "0ec9a5a3",
   "metadata": {},
   "outputs": [
    {
     "data": {
      "text/html": [
       "<div>\n",
       "<style scoped>\n",
       "    .dataframe tbody tr th:only-of-type {\n",
       "        vertical-align: middle;\n",
       "    }\n",
       "\n",
       "    .dataframe tbody tr th {\n",
       "        vertical-align: top;\n",
       "    }\n",
       "\n",
       "    .dataframe thead th {\n",
       "        text-align: right;\n",
       "    }\n",
       "</style>\n",
       "<table border=\"1\" class=\"dataframe\">\n",
       "  <thead>\n",
       "    <tr style=\"text-align: right;\">\n",
       "      <th></th>\n",
       "      <th>Unnamed: 0</th>\n",
       "      <th>TV</th>\n",
       "      <th>radio</th>\n",
       "      <th>newspaper</th>\n",
       "      <th>sales</th>\n",
       "    </tr>\n",
       "  </thead>\n",
       "  <tbody>\n",
       "    <tr>\n",
       "      <th>count</th>\n",
       "      <td>200.000000</td>\n",
       "      <td>200.000000</td>\n",
       "      <td>200.000000</td>\n",
       "      <td>200.000000</td>\n",
       "      <td>200.000000</td>\n",
       "    </tr>\n",
       "    <tr>\n",
       "      <th>mean</th>\n",
       "      <td>100.500000</td>\n",
       "      <td>147.042500</td>\n",
       "      <td>23.264000</td>\n",
       "      <td>30.554000</td>\n",
       "      <td>14.022500</td>\n",
       "    </tr>\n",
       "    <tr>\n",
       "      <th>std</th>\n",
       "      <td>57.879185</td>\n",
       "      <td>85.854236</td>\n",
       "      <td>14.846809</td>\n",
       "      <td>21.778621</td>\n",
       "      <td>5.217457</td>\n",
       "    </tr>\n",
       "    <tr>\n",
       "      <th>min</th>\n",
       "      <td>1.000000</td>\n",
       "      <td>0.700000</td>\n",
       "      <td>0.000000</td>\n",
       "      <td>0.300000</td>\n",
       "      <td>1.600000</td>\n",
       "    </tr>\n",
       "    <tr>\n",
       "      <th>25%</th>\n",
       "      <td>50.750000</td>\n",
       "      <td>74.375000</td>\n",
       "      <td>9.975000</td>\n",
       "      <td>12.750000</td>\n",
       "      <td>10.375000</td>\n",
       "    </tr>\n",
       "    <tr>\n",
       "      <th>50%</th>\n",
       "      <td>100.500000</td>\n",
       "      <td>149.750000</td>\n",
       "      <td>22.900000</td>\n",
       "      <td>25.750000</td>\n",
       "      <td>12.900000</td>\n",
       "    </tr>\n",
       "    <tr>\n",
       "      <th>75%</th>\n",
       "      <td>150.250000</td>\n",
       "      <td>218.825000</td>\n",
       "      <td>36.525000</td>\n",
       "      <td>45.100000</td>\n",
       "      <td>17.400000</td>\n",
       "    </tr>\n",
       "    <tr>\n",
       "      <th>max</th>\n",
       "      <td>200.000000</td>\n",
       "      <td>296.400000</td>\n",
       "      <td>49.600000</td>\n",
       "      <td>114.000000</td>\n",
       "      <td>27.000000</td>\n",
       "    </tr>\n",
       "  </tbody>\n",
       "</table>\n",
       "</div>"
      ],
      "text/plain": [
       "       Unnamed: 0          TV       radio   newspaper       sales\n",
       "count  200.000000  200.000000  200.000000  200.000000  200.000000\n",
       "mean   100.500000  147.042500   23.264000   30.554000   14.022500\n",
       "std     57.879185   85.854236   14.846809   21.778621    5.217457\n",
       "min      1.000000    0.700000    0.000000    0.300000    1.600000\n",
       "25%     50.750000   74.375000    9.975000   12.750000   10.375000\n",
       "50%    100.500000  149.750000   22.900000   25.750000   12.900000\n",
       "75%    150.250000  218.825000   36.525000   45.100000   17.400000\n",
       "max    200.000000  296.400000   49.600000  114.000000   27.000000"
      ]
     },
     "execution_count": 41,
     "metadata": {},
     "output_type": "execute_result"
    }
   ],
   "source": [
    "df.describe()"
   ]
  },
  {
   "cell_type": "code",
   "execution_count": 42,
   "id": "e6cefa6b",
   "metadata": {},
   "outputs": [
    {
     "data": {
      "text/plain": [
       "<AxesSubplot:>"
      ]
     },
     "execution_count": 42,
     "metadata": {},
     "output_type": "execute_result"
    },
    {
     "data": {
      "image/png": "[encoded data removed]",
      "text/plain": [
       "<Figure size 1584x504 with 2 Axes>"
      ]
     },
     "metadata": {
      "needs_background": "light"
     },
     "output_type": "display_data"
    }
   ],
   "source": [
    "import matplotlib.pyplot as plt\n",
    "plt.figure(figsize=(22,7))\n",
    "sns.heatmap(df.describe(),annot=True,linewidths=0.1,linecolor=\"black\",fmt=\"0.2f\")"
   ]
  },
  {
   "cell_type": "markdown",
   "id": "40298b58",
   "metadata": {},
   "source": [
    "# Correlation with target columns"
   ]
  },
  {
   "cell_type": "code",
   "execution_count": 43,
   "id": "169e230b",
   "metadata": {},
   "outputs": [
    {
     "data": {
      "text/html": [
       "<div>\n",
       "<style scoped>\n",
       "    .dataframe tbody tr th:only-of-type {\n",
       "        vertical-align: middle;\n",
       "    }\n",
       "\n",
       "    .dataframe tbody tr th {\n",
       "        vertical-align: top;\n",
       "    }\n",
       "\n",
       "    .dataframe thead th {\n",
       "        text-align: right;\n",
       "    }\n",
       "</style>\n",
       "<table border=\"1\" class=\"dataframe\">\n",
       "  <thead>\n",
       "    <tr style=\"text-align: right;\">\n",
       "      <th></th>\n",
       "      <th>Unnamed: 0</th>\n",
       "      <th>TV</th>\n",
       "      <th>radio</th>\n",
       "      <th>newspaper</th>\n",
       "      <th>sales</th>\n",
       "    </tr>\n",
       "  </thead>\n",
       "  <tbody>\n",
       "    <tr>\n",
       "      <th>Unnamed: 0</th>\n",
       "      <td>1.000000</td>\n",
       "      <td>0.017715</td>\n",
       "      <td>-0.110680</td>\n",
       "      <td>-0.154944</td>\n",
       "      <td>-0.051616</td>\n",
       "    </tr>\n",
       "    <tr>\n",
       "      <th>TV</th>\n",
       "      <td>0.017715</td>\n",
       "      <td>1.000000</td>\n",
       "      <td>0.054809</td>\n",
       "      <td>0.056648</td>\n",
       "      <td>0.782224</td>\n",
       "    </tr>\n",
       "    <tr>\n",
       "      <th>radio</th>\n",
       "      <td>-0.110680</td>\n",
       "      <td>0.054809</td>\n",
       "      <td>1.000000</td>\n",
       "      <td>0.354104</td>\n",
       "      <td>0.576223</td>\n",
       "    </tr>\n",
       "    <tr>\n",
       "      <th>newspaper</th>\n",
       "      <td>-0.154944</td>\n",
       "      <td>0.056648</td>\n",
       "      <td>0.354104</td>\n",
       "      <td>1.000000</td>\n",
       "      <td>0.228299</td>\n",
       "    </tr>\n",
       "    <tr>\n",
       "      <th>sales</th>\n",
       "      <td>-0.051616</td>\n",
       "      <td>0.782224</td>\n",
       "      <td>0.576223</td>\n",
       "      <td>0.228299</td>\n",
       "      <td>1.000000</td>\n",
       "    </tr>\n",
       "  </tbody>\n",
       "</table>\n",
       "</div>"
      ],
      "text/plain": [
       "            Unnamed: 0        TV     radio  newspaper     sales\n",
       "Unnamed: 0    1.000000  0.017715 -0.110680  -0.154944 -0.051616\n",
       "TV            0.017715  1.000000  0.054809   0.056648  0.782224\n",
       "radio        -0.110680  0.054809  1.000000   0.354104  0.576223\n",
       "newspaper    -0.154944  0.056648  0.354104   1.000000  0.228299\n",
       "sales        -0.051616  0.782224  0.576223   0.228299  1.000000"
      ]
     },
     "execution_count": 43,
     "metadata": {},
     "output_type": "execute_result"
    }
   ],
   "source": [
    "df.corr()"
   ]
  },
  {
   "cell_type": "code",
   "execution_count": 44,
   "id": "7cc978f1",
   "metadata": {},
   "outputs": [
    {
     "data": {
      "text/plain": [
       "<AxesSubplot:>"
      ]
     },
     "execution_count": 44,
     "metadata": {},
     "output_type": "execute_result"
    },
    {
     "data": {
      "image/png": "[encoded data removed]",
      "text/plain": [
       "<Figure size 1584x504 with 2 Axes>"
      ]
     },
     "metadata": {
      "needs_background": "light"
     },
     "output_type": "display_data"
    }
   ],
   "source": [
    "plt.figure(figsize=(22,7))\n",
    "sns.heatmap(df.corr(),annot=True,linewidths=0.1,linecolor=\"black\",fmt=\"0.2f\")"
   ]
  },
  {
   "cell_type": "code",
   "execution_count": 46,
   "id": "dab6223f",
   "metadata": {},
   "outputs": [
    {
     "data": {
      "image/png": "[encoded data removed]",
      "text/plain": [
       "<Figure size 1584x504 with 1 Axes>"
      ]
     },
     "metadata": {
      "needs_background": "light"
     },
     "output_type": "display_data"
    }
   ],
   "source": [
    "plt.figure(figsize=(22,7))\n",
    "df.corr()['sales'].sort_values(ascending=False).drop(['sales']).plot(kind='bar' ,color='c')\n",
    "plt.xlabel('Feature' ,fontsize=14)\n",
    "plt.ylabel('column with target names',fontsize=14)\n",
    "plt.title('correlation',fontsize=18)\n",
    "plt.show()"
   ]
  },
  {
   "cell_type": "code",
   "execution_count": 47,
   "id": "180b4a02",
   "metadata": {},
   "outputs": [
    {
     "data": {
      "text/plain": [
       "Unnamed: 0    0.000000\n",
       "TV           -0.069853\n",
       "radio         0.094175\n",
       "newspaper     0.894720\n",
       "sales         0.407571\n",
       "dtype: float64"
      ]
     },
     "execution_count": 47,
     "metadata": {},
     "output_type": "execute_result"
    }
   ],
   "source": [
    "df.skew()"
   ]
  },
  {
   "cell_type": "markdown",
   "id": "ba66ac73",
   "metadata": {},
   "source": [
    "# Outliers checking"
   ]
  },
  {
   "cell_type": "code",
   "execution_count": 48,
   "id": "1ef7d108",
   "metadata": {},
   "outputs": [
    {
     "data": {
      "text/plain": [
       "Unnamed: 0      int64\n",
       "TV            float64\n",
       "radio         float64\n",
       "newspaper     float64\n",
       "sales         float64\n",
       "dtype: object"
      ]
     },
     "execution_count": 48,
     "metadata": {},
     "output_type": "execute_result"
    }
   ],
   "source": [
    "df.dtypes"
   ]
  },
  {
   "cell_type": "code",
   "execution_count": 49,
   "id": "73da2240",
   "metadata": {},
   "outputs": [
    {
     "data": {
      "text/plain": [
       "<AxesSubplot:>"
      ]
     },
     "execution_count": 49,
     "metadata": {},
     "output_type": "execute_result"
    },
    {
     "data": {
      "image/png": "[encoded data removed]",
      "text/plain": [
       "<Figure size 432x288 with 1 Axes>"
      ]
     },
     "metadata": {
      "needs_background": "light"
     },
     "output_type": "display_data"
    }
   ],
   "source": [
    "df['TV'].plot.box()"
   ]
  },
  {
   "cell_type": "code",
   "execution_count": 50,
   "id": "fb6a47ca",
   "metadata": {},
   "outputs": [
    {
     "data": {
      "text/plain": [
       "<AxesSubplot:>"
      ]
     },
     "execution_count": 50,
     "metadata": {},
     "output_type": "execute_result"
    },
    {
     "data": {
      "image/png": "[encoded data removed]",
      "text/plain": [
       "<Figure size 432x288 with 1 Axes>"
      ]
     },
     "metadata": {
      "needs_background": "light"
     },
     "output_type": "display_data"
    }
   ],
   "source": [
    "df['radio'].plot.box()"
   ]
  },
  {
   "cell_type": "code",
   "execution_count": 51,
   "id": "58405449",
   "metadata": {},
   "outputs": [
    {
     "data": {
      "text/plain": [
       "<AxesSubplot:>"
      ]
     },
     "execution_count": 51,
     "metadata": {},
     "output_type": "execute_result"
    },
    {
     "data": {
      "image/png": "[encoded data removed]",
      "text/plain": [
       "<Figure size 432x288 with 1 Axes>"
      ]
     },
     "metadata": {
      "needs_background": "light"
     },
     "output_type": "display_data"
    }
   ],
   "source": [
    "df['newspaper'].plot.box()"
   ]
  },
  {
   "cell_type": "code",
   "execution_count": 52,
   "id": "e145293d",
   "metadata": {},
   "outputs": [
    {
     "data": {
      "text/plain": [
       "<AxesSubplot:>"
      ]
     },
     "execution_count": 52,
     "metadata": {},
     "output_type": "execute_result"
    },
    {
     "data": {
      "image/png": "[encoded data removed]",
      "text/plain": [
       "<Figure size 432x288 with 1 Axes>"
      ]
     },
     "metadata": {
      "needs_background": "light"
     },
     "output_type": "display_data"
    }
   ],
   "source": [
    "df['sales'].plot.box()"
   ]
  },
  {
   "cell_type": "markdown",
   "id": "45d3ba7e",
   "metadata": {},
   "source": [
    "# Considering the outliers removal"
   ]
  },
  {
   "cell_type": "code",
   "execution_count": 53,
   "id": "ffe54c2d",
   "metadata": {},
   "outputs": [
    {
     "data": {
      "text/plain": [
       "(200, 5)"
      ]
     },
     "execution_count": 53,
     "metadata": {},
     "output_type": "execute_result"
    }
   ],
   "source": [
    "df.shape"
   ]
  },
  {
   "cell_type": "code",
   "execution_count": 54,
   "id": "12bd5097",
   "metadata": {},
   "outputs": [
    {
     "data": {
      "text/plain": [
       "(array([ 16, 101], dtype=int64), array([3, 3], dtype=int64))"
      ]
     },
     "execution_count": 54,
     "metadata": {},
     "output_type": "execute_result"
    }
   ],
   "source": [
    "from scipy.stats import zscore\n",
    "import numpy as np\n",
    "z=np.abs(zscore(df))\n",
    "threshold=3\n",
    "np.where(z>3)"
   ]
  },
  {
   "cell_type": "code",
   "execution_count": 55,
   "id": "12cd9a55",
   "metadata": {},
   "outputs": [
    {
     "data": {
      "text/html": [
       "<div>\n",
       "<style scoped>\n",
       "    .dataframe tbody tr th:only-of-type {\n",
       "        vertical-align: middle;\n",
       "    }\n",
       "\n",
       "    .dataframe tbody tr th {\n",
       "        vertical-align: top;\n",
       "    }\n",
       "\n",
       "    .dataframe thead th {\n",
       "        text-align: right;\n",
       "    }\n",
       "</style>\n",
       "<table border=\"1\" class=\"dataframe\">\n",
       "  <thead>\n",
       "    <tr style=\"text-align: right;\">\n",
       "      <th></th>\n",
       "      <th>Unnamed: 0</th>\n",
       "      <th>TV</th>\n",
       "      <th>radio</th>\n",
       "      <th>newspaper</th>\n",
       "      <th>sales</th>\n",
       "    </tr>\n",
       "  </thead>\n",
       "  <tbody>\n",
       "    <tr>\n",
       "      <th>0</th>\n",
       "      <td>1</td>\n",
       "      <td>230.1</td>\n",
       "      <td>37.8</td>\n",
       "      <td>69.2</td>\n",
       "      <td>22.1</td>\n",
       "    </tr>\n",
       "    <tr>\n",
       "      <th>1</th>\n",
       "      <td>2</td>\n",
       "      <td>44.5</td>\n",
       "      <td>39.3</td>\n",
       "      <td>45.1</td>\n",
       "      <td>10.4</td>\n",
       "    </tr>\n",
       "    <tr>\n",
       "      <th>2</th>\n",
       "      <td>3</td>\n",
       "      <td>17.2</td>\n",
       "      <td>45.9</td>\n",
       "      <td>69.3</td>\n",
       "      <td>9.3</td>\n",
       "    </tr>\n",
       "    <tr>\n",
       "      <th>3</th>\n",
       "      <td>4</td>\n",
       "      <td>151.5</td>\n",
       "      <td>41.3</td>\n",
       "      <td>58.5</td>\n",
       "      <td>18.5</td>\n",
       "    </tr>\n",
       "    <tr>\n",
       "      <th>4</th>\n",
       "      <td>5</td>\n",
       "      <td>180.8</td>\n",
       "      <td>10.8</td>\n",
       "      <td>58.4</td>\n",
       "      <td>12.9</td>\n",
       "    </tr>\n",
       "    <tr>\n",
       "      <th>...</th>\n",
       "      <td>...</td>\n",
       "      <td>...</td>\n",
       "      <td>...</td>\n",
       "      <td>...</td>\n",
       "      <td>...</td>\n",
       "    </tr>\n",
       "    <tr>\n",
       "      <th>195</th>\n",
       "      <td>196</td>\n",
       "      <td>38.2</td>\n",
       "      <td>3.7</td>\n",
       "      <td>13.8</td>\n",
       "      <td>7.6</td>\n",
       "    </tr>\n",
       "    <tr>\n",
       "      <th>196</th>\n",
       "      <td>197</td>\n",
       "      <td>94.2</td>\n",
       "      <td>4.9</td>\n",
       "      <td>8.1</td>\n",
       "      <td>9.7</td>\n",
       "    </tr>\n",
       "    <tr>\n",
       "      <th>197</th>\n",
       "      <td>198</td>\n",
       "      <td>177.0</td>\n",
       "      <td>9.3</td>\n",
       "      <td>6.4</td>\n",
       "      <td>12.8</td>\n",
       "    </tr>\n",
       "    <tr>\n",
       "      <th>198</th>\n",
       "      <td>199</td>\n",
       "      <td>283.6</td>\n",
       "      <td>42.0</td>\n",
       "      <td>66.2</td>\n",
       "      <td>25.5</td>\n",
       "    </tr>\n",
       "    <tr>\n",
       "      <th>199</th>\n",
       "      <td>200</td>\n",
       "      <td>232.1</td>\n",
       "      <td>8.6</td>\n",
       "      <td>8.7</td>\n",
       "      <td>13.4</td>\n",
       "    </tr>\n",
       "  </tbody>\n",
       "</table>\n",
       "<p>198 rows × 5 columns</p>\n",
       "</div>"
      ],
      "text/plain": [
       "     Unnamed: 0     TV  radio  newspaper  sales\n",
       "0             1  230.1   37.8       69.2   22.1\n",
       "1             2   44.5   39.3       45.1   10.4\n",
       "2             3   17.2   45.9       69.3    9.3\n",
       "3             4  151.5   41.3       58.5   18.5\n",
       "4             5  180.8   10.8       58.4   12.9\n",
       "..          ...    ...    ...        ...    ...\n",
       "195         196   38.2    3.7       13.8    7.6\n",
       "196         197   94.2    4.9        8.1    9.7\n",
       "197         198  177.0    9.3        6.4   12.8\n",
       "198         199  283.6   42.0       66.2   25.5\n",
       "199         200  232.1    8.6        8.7   13.4\n",
       "\n",
       "[198 rows x 5 columns]"
      ]
     },
     "execution_count": 55,
     "metadata": {},
     "output_type": "execute_result"
    }
   ],
   "source": [
    "df_new_z=df[(z<3).all(axis=1)]\n",
    "df_new_z"
   ]
  },
  {
   "cell_type": "code",
   "execution_count": 56,
   "id": "a76de597",
   "metadata": {},
   "outputs": [
    {
     "data": {
      "text/plain": [
       "(198, 5)"
      ]
     },
     "execution_count": 56,
     "metadata": {},
     "output_type": "execute_result"
    }
   ],
   "source": [
    "df_new_z.shape"
   ]
  },
  {
   "cell_type": "code",
   "execution_count": 57,
   "id": "6d355031",
   "metadata": {},
   "outputs": [],
   "source": [
    "Data_loss=((200-198)/200)*100"
   ]
  },
  {
   "cell_type": "code",
   "execution_count": 59,
   "id": "032ec957",
   "metadata": {},
   "outputs": [
    {
     "data": {
      "text/plain": [
       "1.0"
      ]
     },
     "execution_count": 59,
     "metadata": {},
     "output_type": "execute_result"
    }
   ],
   "source": [
    "Data_loss"
   ]
  },
  {
   "cell_type": "markdown",
   "id": "e5f74039",
   "metadata": {},
   "source": [
    "# Separating the columns into features and target"
   ]
  },
  {
   "cell_type": "code",
   "execution_count": 61,
   "id": "1575a07e",
   "metadata": {},
   "outputs": [],
   "source": [
    "features=df.drop(\"sales\",axis=1)\n",
    "target=df[\"sales\"]"
   ]
  },
  {
   "cell_type": "markdown",
   "id": "ef4d1e17",
   "metadata": {},
   "source": [
    "# Scaling the data using Min-max scalar"
   ]
  },
  {
   "cell_type": "code",
   "execution_count": 62,
   "id": "5106e141",
   "metadata": {},
   "outputs": [],
   "source": [
    "from sklearn.preprocessing import MinMaxScaler\n",
    "mms=MinMaxScaler()\n",
    "from sklearn.linear_model import LinearRegression\n",
    "lr=LinearRegression()\n",
    "from sklearn.metrics import r2_score\n",
    "from sklearn.model_selection import train_test_split"
   ]
  },
  {
   "cell_type": "code",
   "execution_count": 63,
   "id": "ababbb27",
   "metadata": {},
   "outputs": [],
   "source": [
    "import warnings\n",
    "warnings.filterwarnings('ignore')"
   ]
  },
  {
   "cell_type": "code",
   "execution_count": 64,
   "id": "3bbe4b21",
   "metadata": {},
   "outputs": [
    {
     "name": "stdout",
     "output_type": "stream",
     "text": [
      "At random state 0,the training accuracy is :- 0.9073274552252846\n",
      "At random state 0,the testing accuracy is :- 0.856480214327925\n",
      "\n",
      "\n",
      "At random state 1,the training accuracy is :- 0.8959391993971187\n",
      "At random state 1,the testing accuracy is :- 0.8928781912093181\n",
      "\n",
      "\n",
      "At random state 2,the training accuracy is :- 0.9152614531156523\n",
      "At random state 2,the testing accuracy is :- 0.7570326409482367\n",
      "\n",
      "\n",
      "At random state 3,the training accuracy is :- 0.8931443451313652\n",
      "At random state 3,the testing accuracy is :- 0.9134449674582059\n",
      "\n",
      "\n",
      "At random state 4,the training accuracy is :- 0.8911682084041699\n",
      "At random state 4,the testing accuracy is :- 0.9084934434517352\n",
      "\n",
      "\n",
      "At random state 5,the training accuracy is :- 0.89570620107301\n",
      "At random state 5,the testing accuracy is :- 0.89851958363058\n",
      "\n",
      "\n",
      "At random state 6,the training accuracy is :- 0.8915582028345674\n",
      "At random state 6,the testing accuracy is :- 0.921941222913581\n",
      "\n",
      "\n",
      "At random state 7,the training accuracy is :- 0.8929171093102488\n",
      "At random state 7,the testing accuracy is :- 0.9094946118605033\n",
      "\n",
      "\n",
      "At random state 8,the training accuracy is :- 0.9089671598668994\n",
      "At random state 8,the testing accuracy is :- 0.8454524606304807\n",
      "\n",
      "\n",
      "At random state 9,the training accuracy is :- 0.8897879071515497\n",
      "At random state 9,the testing accuracy is :- 0.9254791165935141\n",
      "\n",
      "\n",
      "At random state 10,the training accuracy is :- 0.9210064755430887\n",
      "At random state 10,the testing accuracy is :- 0.8350889287403334\n",
      "\n",
      "\n",
      "At random state 11,the training accuracy is :- 0.9111623809104603\n",
      "At random state 11,the testing accuracy is :- 0.8449820092996336\n",
      "\n",
      "\n",
      "At random state 12,the training accuracy is :- 0.8918075499129059\n",
      "At random state 12,the testing accuracy is :- 0.9110007582766769\n",
      "\n",
      "\n",
      "At random state 13,the training accuracy is :- 0.887016186914774\n",
      "At random state 13,the testing accuracy is :- 0.9305870148904292\n",
      "\n",
      "\n",
      "At random state 14,the training accuracy is :- 0.9086355983008996\n",
      "At random state 14,the testing accuracy is :- 0.8549475163509118\n",
      "\n",
      "\n",
      "At random state 15,the training accuracy is :- 0.8938079254185115\n",
      "At random state 15,the testing accuracy is :- 0.9055692412310968\n",
      "\n",
      "\n",
      "At random state 16,the training accuracy is :- 0.8926643673594483\n",
      "At random state 16,the testing accuracy is :- 0.9179051167419227\n",
      "\n",
      "\n",
      "At random state 17,the training accuracy is :- 0.9116703196823303\n",
      "At random state 17,the testing accuracy is :- 0.8260144163842627\n",
      "\n",
      "\n",
      "At random state 18,the training accuracy is :- 0.9058537276169787\n",
      "At random state 18,the testing accuracy is :- 0.8692586836034338\n",
      "\n",
      "\n",
      "At random state 19,the training accuracy is :- 0.8936964884458823\n",
      "At random state 19,the testing accuracy is :- 0.9035293150713195\n",
      "\n",
      "\n",
      "At random state 20,the training accuracy is :- 0.8940674217997686\n",
      "At random state 20,the testing accuracy is :- 0.9028631545455051\n",
      "\n",
      "\n",
      "At random state 21,the training accuracy is :- 0.8890540600770627\n",
      "At random state 21,the testing accuracy is :- 0.9146569039385174\n",
      "\n",
      "\n",
      "At random state 22,the training accuracy is :- 0.8899973381223143\n",
      "At random state 22,the testing accuracy is :- 0.9182082402965809\n",
      "\n",
      "\n",
      "At random state 23,the training accuracy is :- 0.8921767001074105\n",
      "At random state 23,the testing accuracy is :- 0.9099324713476881\n",
      "\n",
      "\n",
      "At random state 24,the training accuracy is :- 0.8948669853718487\n",
      "At random state 24,the testing accuracy is :- 0.9031175758867456\n",
      "\n",
      "\n",
      "At random state 25,the training accuracy is :- 0.901084029469538\n",
      "At random state 25,the testing accuracy is :- 0.8720389628792304\n",
      "\n",
      "\n",
      "At random state 26,the training accuracy is :- 0.9008142925470226\n",
      "At random state 26,the testing accuracy is :- 0.8660817826604932\n",
      "\n",
      "\n",
      "At random state 27,the training accuracy is :- 0.8949084508267352\n",
      "At random state 27,the testing accuracy is :- 0.9055839757493602\n",
      "\n",
      "\n",
      "At random state 28,the training accuracy is :- 0.8997566457323917\n",
      "At random state 28,the testing accuracy is :- 0.882889952375476\n",
      "\n",
      "\n",
      "At random state 29,the training accuracy is :- 0.8897990754621425\n",
      "At random state 29,the testing accuracy is :- 0.9121642709962423\n",
      "\n",
      "\n",
      "At random state 30,the training accuracy is :- 0.8935867104133169\n",
      "At random state 30,the testing accuracy is :- 0.9070725716744538\n",
      "\n",
      "\n",
      "At random state 31,the training accuracy is :- 0.8861151331622692\n",
      "At random state 31,the testing accuracy is :- 0.9274231828872666\n",
      "\n",
      "\n",
      "At random state 32,the training accuracy is :- 0.9172993061976911\n",
      "At random state 32,the testing accuracy is :- 0.7769624816211904\n",
      "\n",
      "\n",
      "At random state 33,the training accuracy is :- 0.896294422055296\n",
      "At random state 33,the testing accuracy is :- 0.8938166042095906\n",
      "\n",
      "\n",
      "At random state 34,the training accuracy is :- 0.8970815554113069\n",
      "At random state 34,the testing accuracy is :- 0.8919648426080482\n",
      "\n",
      "\n",
      "At random state 35,the training accuracy is :- 0.9149816013369177\n",
      "At random state 35,the testing accuracy is :- 0.786373587730015\n",
      "\n",
      "\n",
      "At random state 36,the training accuracy is :- 0.8887390025066806\n",
      "At random state 36,the testing accuracy is :- 0.9265569630488937\n",
      "\n",
      "\n",
      "At random state 37,the training accuracy is :- 0.8998734924150504\n",
      "At random state 37,the testing accuracy is :- 0.8832381464120009\n",
      "\n",
      "\n",
      "At random state 38,the training accuracy is :- 0.8972914103912516\n",
      "At random state 38,the testing accuracy is :- 0.8908696135503188\n",
      "\n",
      "\n",
      "At random state 39,the training accuracy is :- 0.9002556473795614\n",
      "At random state 39,the testing accuracy is :- 0.8690558832908658\n",
      "\n",
      "\n",
      "At random state 40,the training accuracy is :- 0.9204058033654225\n",
      "At random state 40,the testing accuracy is :- 0.7965905680536843\n",
      "\n",
      "\n",
      "At random state 41,the training accuracy is :- 0.9006927327079468\n",
      "At random state 41,the testing accuracy is :- 0.8820470614688671\n",
      "\n",
      "\n",
      "At random state 42,the training accuracy is :- 0.8957553000540606\n",
      "At random state 42,the testing accuracy is :- 0.8986489151417081\n",
      "\n",
      "\n",
      "At random state 43,the training accuracy is :- 0.8886405668646471\n",
      "At random state 43,the testing accuracy is :- 0.9279997802005557\n",
      "\n",
      "\n",
      "At random state 44,the training accuracy is :- 0.9065906284233083\n",
      "At random state 44,the testing accuracy is :- 0.8309225032852494\n",
      "\n",
      "\n",
      "At random state 45,the training accuracy is :- 0.8963875424029035\n",
      "At random state 45,the testing accuracy is :- 0.8915316806090338\n",
      "\n",
      "\n",
      "At random state 46,the training accuracy is :- 0.9036235036433334\n",
      "At random state 46,the testing accuracy is :- 0.8503383755246359\n",
      "\n",
      "\n",
      "At random state 47,the training accuracy is :- 0.8988386546103042\n",
      "At random state 47,the testing accuracy is :- 0.8849834045904889\n",
      "\n",
      "\n",
      "At random state 48,the training accuracy is :- 0.890542166403924\n",
      "At random state 48,the testing accuracy is :- 0.9189262097926163\n",
      "\n",
      "\n",
      "At random state 49,the training accuracy is :- 0.913865852180709\n",
      "At random state 49,the testing accuracy is :- 0.8231216329494812\n",
      "\n",
      "\n",
      "At random state 50,the training accuracy is :- 0.9013718398317787\n",
      "At random state 50,the testing accuracy is :- 0.8476464379397719\n",
      "\n",
      "\n",
      "At random state 51,the training accuracy is :- 0.8936175989328149\n",
      "At random state 51,the testing accuracy is :- 0.9076546711720634\n",
      "\n",
      "\n",
      "At random state 52,the training accuracy is :- 0.9018604295382086\n",
      "At random state 52,the testing accuracy is :- 0.8807089729330375\n",
      "\n",
      "\n",
      "At random state 53,the training accuracy is :- 0.888857938922339\n",
      "At random state 53,the testing accuracy is :- 0.9251773581549692\n",
      "\n",
      "\n",
      "At random state 54,the training accuracy is :- 0.8920887237166686\n",
      "At random state 54,the testing accuracy is :- 0.9172149618279113\n",
      "\n",
      "\n",
      "At random state 55,the training accuracy is :- 0.894930160761274\n",
      "At random state 55,the testing accuracy is :- 0.8978864477773828\n",
      "\n",
      "\n",
      "At random state 56,the training accuracy is :- 0.8989201587327643\n",
      "At random state 56,the testing accuracy is :- 0.888224634953456\n",
      "\n",
      "\n",
      "At random state 57,the training accuracy is :- 0.8825879766148067\n",
      "At random state 57,the testing accuracy is :- 0.9408099432427623\n",
      "\n",
      "\n",
      "At random state 58,the training accuracy is :- 0.9127355018257423\n",
      "At random state 58,the testing accuracy is :- 0.8401442189987403\n",
      "\n",
      "\n",
      "At random state 59,the training accuracy is :- 0.8893758445368163\n",
      "At random state 59,the testing accuracy is :- 0.9250247055288898\n",
      "\n",
      "\n",
      "At random state 60,the training accuracy is :- 0.8929488169971975\n",
      "At random state 60,the testing accuracy is :- 0.9074416119003319\n",
      "\n",
      "\n",
      "At random state 61,the training accuracy is :- 0.8995558396715964\n",
      "At random state 61,the testing accuracy is :- 0.878101642882558\n",
      "\n",
      "\n",
      "At random state 62,the training accuracy is :- 0.9120188082159291\n",
      "At random state 62,the testing accuracy is :- 0.8418326614272956\n",
      "\n",
      "\n",
      "At random state 63,the training accuracy is :- 0.8951057681539462\n",
      "At random state 63,the testing accuracy is :- 0.9005058624602784\n",
      "\n",
      "\n",
      "At random state 64,the training accuracy is :- 0.8977795664080803\n",
      "At random state 64,the testing accuracy is :- 0.8817995595827229\n",
      "\n",
      "\n",
      "At random state 65,the training accuracy is :- 0.8969891176837769\n",
      "At random state 65,the testing accuracy is :- 0.8942556589953752\n",
      "\n",
      "\n",
      "At random state 66,the training accuracy is :- 0.8992060099166295\n",
      "At random state 66,the testing accuracy is :- 0.8838295132236418\n",
      "\n",
      "\n",
      "At random state 67,the training accuracy is :- 0.8995954079489461\n",
      "At random state 67,the testing accuracy is :- 0.8813062371563375\n",
      "\n",
      "\n",
      "At random state 68,the training accuracy is :- 0.9004472797727481\n",
      "At random state 68,the testing accuracy is :- 0.8669862566176891\n",
      "\n",
      "\n",
      "At random state 69,the training accuracy is :- 0.8870476050134384\n",
      "At random state 69,the testing accuracy is :- 0.9233095015758521\n",
      "\n",
      "\n",
      "At random state 70,the training accuracy is :- 0.8862589587247461\n",
      "At random state 70,the testing accuracy is :- 0.9261899619072469\n",
      "\n",
      "\n"
     ]
    },
    {
     "name": "stdout",
     "output_type": "stream",
     "text": [
      "At random state 71,the training accuracy is :- 0.9170792242159567\n",
      "At random state 71,the testing accuracy is :- 0.8214330315197064\n",
      "\n",
      "\n",
      "At random state 72,the training accuracy is :- 0.8939630309765105\n",
      "At random state 72,the testing accuracy is :- 0.9063814288042916\n",
      "\n",
      "\n",
      "At random state 73,the training accuracy is :- 0.9081745525874727\n",
      "At random state 73,the testing accuracy is :- 0.838245651416483\n",
      "\n",
      "\n",
      "At random state 74,the training accuracy is :- 0.8980451797105264\n",
      "At random state 74,the testing accuracy is :- 0.8802918295913446\n",
      "\n",
      "\n",
      "At random state 75,the training accuracy is :- 0.8944097316106918\n",
      "At random state 75,the testing accuracy is :- 0.9074740863261651\n",
      "\n",
      "\n",
      "At random state 76,the training accuracy is :- 0.9092071576699313\n",
      "At random state 76,the testing accuracy is :- 0.7531289748171518\n",
      "\n",
      "\n",
      "At random state 77,the training accuracy is :- 0.8859821552154192\n",
      "At random state 77,the testing accuracy is :- 0.937956975915543\n",
      "\n",
      "\n",
      "At random state 78,the training accuracy is :- 0.8957614044756782\n",
      "At random state 78,the testing accuracy is :- 0.9027962436962178\n",
      "\n",
      "\n",
      "At random state 79,the training accuracy is :- 0.8918809749821501\n",
      "At random state 79,the testing accuracy is :- 0.9039590138288892\n",
      "\n",
      "\n",
      "At random state 80,the training accuracy is :- 0.9169729628077916\n",
      "At random state 80,the testing accuracy is :- 0.8002879936768352\n",
      "\n",
      "\n",
      "At random state 81,the training accuracy is :- 0.9035712487248864\n",
      "At random state 81,the testing accuracy is :- 0.8609698767855934\n",
      "\n",
      "\n",
      "At random state 82,the training accuracy is :- 0.9154275126468338\n",
      "At random state 82,the testing accuracy is :- 0.8013214526563002\n",
      "\n",
      "\n",
      "At random state 83,the training accuracy is :- 0.8842230653829803\n",
      "At random state 83,the testing accuracy is :- 0.936533183297641\n",
      "\n",
      "\n",
      "At random state 84,the training accuracy is :- 0.8954723130793452\n",
      "At random state 84,the testing accuracy is :- 0.8982625547501828\n",
      "\n",
      "\n",
      "At random state 85,the training accuracy is :- 0.9086556153894079\n",
      "At random state 85,the testing accuracy is :- 0.8439750044569613\n",
      "\n",
      "\n",
      "At random state 86,the training accuracy is :- 0.8941933141983467\n",
      "At random state 86,the testing accuracy is :- 0.9101136416354886\n",
      "\n",
      "\n",
      "At random state 87,the training accuracy is :- 0.9120854281966964\n",
      "At random state 87,the testing accuracy is :- 0.7590318344044371\n",
      "\n",
      "\n",
      "At random state 88,the training accuracy is :- 0.909607024863585\n",
      "At random state 88,the testing accuracy is :- 0.8387190488012204\n",
      "\n",
      "\n",
      "At random state 89,the training accuracy is :- 0.9007733237783739\n",
      "At random state 89,the testing accuracy is :- 0.8715218402293794\n",
      "\n",
      "\n",
      "At random state 90,the training accuracy is :- 0.9035155910972225\n",
      "At random state 90,the testing accuracy is :- 0.8470679956762829\n",
      "\n",
      "\n",
      "At random state 91,the training accuracy is :- 0.8874503790642361\n",
      "At random state 91,the testing accuracy is :- 0.9040620243534963\n",
      "\n",
      "\n",
      "At random state 92,the training accuracy is :- 0.879228484038034\n",
      "At random state 92,the testing accuracy is :- 0.950983339269277\n",
      "\n",
      "\n",
      "At random state 93,the training accuracy is :- 0.8934257355566151\n",
      "At random state 93,the testing accuracy is :- 0.9092789029786972\n",
      "\n",
      "\n",
      "At random state 94,the training accuracy is :- 0.9084405371218475\n",
      "At random state 94,the testing accuracy is :- 0.8559756457570239\n",
      "\n",
      "\n",
      "At random state 95,the training accuracy is :- 0.8935661522674359\n",
      "At random state 95,the testing accuracy is :- 0.8951483094107863\n",
      "\n",
      "\n",
      "At random state 96,the training accuracy is :- 0.9038616523881903\n",
      "At random state 96,the testing accuracy is :- 0.858009872088536\n",
      "\n",
      "\n",
      "At random state 97,the training accuracy is :- 0.8906962083562392\n",
      "At random state 97,the testing accuracy is :- 0.907763020464028\n",
      "\n",
      "\n",
      "At random state 98,the training accuracy is :- 0.8820113423343215\n",
      "At random state 98,the testing accuracy is :- 0.9393724951506759\n",
      "\n",
      "\n",
      "At random state 99,the training accuracy is :- 0.8906644266587815\n",
      "At random state 99,the testing accuracy is :- 0.9201416862699034\n",
      "\n",
      "\n"
     ]
    }
   ],
   "source": [
    "for i in range(0,100):\n",
    "    features_train,features_test,target_train,target_test=train_test_split(features,target,test_size=0.2,random_state=i)\n",
    "    lr.fit(features_train,target_train)\n",
    "    pred_train=lr.predict(features_train)\n",
    "    pred_test=lr.predict(features_test)\n",
    "    print(f\"At random state {i},the training accuracy is :- {r2_score(target_train,pred_train)}\")\n",
    "    print(f\"At random state {i},the testing accuracy is :- {r2_score(target_test,pred_test)}\")\n",
    "    print(\"\\n\")"
   ]
  },
  {
   "cell_type": "code",
   "execution_count": 65,
   "id": "8a04e27b",
   "metadata": {},
   "outputs": [],
   "source": [
    "features_train,features_test,target_train,target_test=train_test_split(features,target,test_size=0.2,random_state=12)"
   ]
  },
  {
   "cell_type": "code",
   "execution_count": 66,
   "id": "1232a27f",
   "metadata": {},
   "outputs": [
    {
     "data": {
      "text/plain": [
       "LinearRegression()"
      ]
     },
     "execution_count": 66,
     "metadata": {},
     "output_type": "execute_result"
    }
   ],
   "source": [
    "lr.fit(features_train,target_train)"
   ]
  },
  {
   "cell_type": "code",
   "execution_count": 67,
   "id": "8e0b1360",
   "metadata": {},
   "outputs": [],
   "source": [
    "pred_test=lr.predict(features_test)"
   ]
  },
  {
   "cell_type": "code",
   "execution_count": 68,
   "id": "1749cbfc",
   "metadata": {},
   "outputs": [
    {
     "name": "stdout",
     "output_type": "stream",
     "text": [
      "0.9110007582766769\n"
     ]
    }
   ],
   "source": [
    "print(r2_score(target_test,pred_test))"
   ]
  },
  {
   "cell_type": "markdown",
   "id": "37b297b7",
   "metadata": {},
   "source": [
    "# Crosss-validation of the model"
   ]
  },
  {
   "cell_type": "code",
   "execution_count": 69,
   "id": "b530c227",
   "metadata": {},
   "outputs": [
    {
     "name": "stdout",
     "output_type": "stream",
     "text": [
      "At cross fold 2 the cv score is 0.8557808905096393 and accuracy score for training is -1.1005688286388935 and accuracy for the testing is 0.9110007582766769\n",
      "\n",
      "\n",
      "At cross fold 3 the cv score is 0.8913539823868294 and accuracy score for training is -1.1005688286388935 and accuracy for the testing is 0.9110007582766769\n",
      "\n",
      "\n",
      "At cross fold 4 the cv score is 0.8858779626590163 and accuracy score for training is -1.1005688286388935 and accuracy for the testing is 0.9110007582766769\n",
      "\n",
      "\n",
      "At cross fold 5 the cv score is 0.8842777844741689 and accuracy score for training is -1.1005688286388935 and accuracy for the testing is 0.9110007582766769\n",
      "\n",
      "\n",
      "At cross fold 6 the cv score is 0.8877823078964706 and accuracy score for training is -1.1005688286388935 and accuracy for the testing is 0.9110007582766769\n",
      "\n",
      "\n",
      "At cross fold 7 the cv score is 0.8830284351379021 and accuracy score for training is -1.1005688286388935 and accuracy for the testing is 0.9110007582766769\n",
      "\n",
      "\n",
      "At cross fold 8 the cv score is 0.8795059347365249 and accuracy score for training is -1.1005688286388935 and accuracy for the testing is 0.9110007582766769\n",
      "\n",
      "\n",
      "At cross fold 9 the cv score is 0.879704245100306 and accuracy score for training is -1.1005688286388935 and accuracy for the testing is 0.9110007582766769\n",
      "\n",
      "\n"
     ]
    }
   ],
   "source": [
    "Train_accuracy=r2_score(target_train,pred_train)\n",
    "Test_accuracy=r2_score(target_test,pred_test)\n",
    "\n",
    "from sklearn.model_selection import cross_val_score\n",
    "for j in range(2,10):\n",
    "    cv_score=cross_val_score(lr,features,target,cv=j)\n",
    "    cv_mean=cv_score.mean()\n",
    "    print(f\"At cross fold {j} the cv score is {cv_mean} and accuracy score for training is {Train_accuracy} and accuracy for the testing is {Test_accuracy}\")\n",
    "    print(\"\\n\")"
   ]
  },
  {
   "cell_type": "code",
   "execution_count": 70,
   "id": "cded8a68",
   "metadata": {},
   "outputs": [
    {
     "data": {
      "image/png": "[encoded data removed]",
      "text/plain": [
       "<Figure size 576x432 with 1 Axes>"
      ]
     },
     "metadata": {
      "needs_background": "light"
     },
     "output_type": "display_data"
    }
   ],
   "source": [
    "import matplotlib.pyplot as plt\n",
    "plt.figure(figsize=(8,6))\n",
    "plt.scatter(x=target_test, y=pred_test, color='r')\n",
    "plt.plot(target_test,target_test, color='b')\n",
    "plt.xlabel('Actual charges',fontsize=14)\n",
    "plt.ylabel('Predicted charges',fontsize=14)\n",
    "plt.title('Linear Regression',fontsize=18)\n",
    "plt.show()"
   ]
  },
  {
   "cell_type": "markdown",
   "id": "a1fc1a7e",
   "metadata": {},
   "source": [
    "# Regularization"
   ]
  },
  {
   "cell_type": "code",
   "execution_count": 71,
   "id": "625d8633",
   "metadata": {},
   "outputs": [],
   "source": [
    "from sklearn.model_selection import GridSearchCV\n",
    "from sklearn.model_selection import cross_val_score\n",
    "import warnings\n",
    "warnings.filterwarnings('ignore')"
   ]
  },
  {
   "cell_type": "code",
   "execution_count": 72,
   "id": "9d28af99",
   "metadata": {},
   "outputs": [
    {
     "name": "stdout",
     "output_type": "stream",
     "text": [
      "{'alpha': 0.01, 'random_state': 0}\n"
     ]
    }
   ],
   "source": [
    "from sklearn.linear_model import Lasso\n",
    "\n",
    "parameters = {'alpha' :[.0001, .001, .01, .1, 1, 10], 'random_state':list(range(0,10))}\n",
    "ls = Lasso()\n",
    "clf = GridSearchCV(ls,parameters)\n",
    "clf.fit(features_train,target_train)\n",
    "\n",
    "print(clf.best_params_)"
   ]
  },
  {
   "cell_type": "code",
   "execution_count": 73,
   "id": "89ac73a6",
   "metadata": {},
   "outputs": [
    {
     "data": {
      "text/plain": [
       "0.9110263280759735"
      ]
     },
     "execution_count": 73,
     "metadata": {},
     "output_type": "execute_result"
    }
   ],
   "source": [
    "ls = Lasso(alpha=0.01,random_state=0)\n",
    "ls.fit(features_train,target_train)\n",
    "ls.score(features_train,target_train)\n",
    "pred_ls = ls.predict(features_test)\n",
    "\n",
    "lss = r2_score(target_test,pred_ls)\n",
    "lss"
   ]
  },
  {
   "cell_type": "code",
   "execution_count": 74,
   "id": "036669a2",
   "metadata": {},
   "outputs": [
    {
     "data": {
      "text/plain": [
       "0.8842974176393481"
      ]
     },
     "execution_count": 74,
     "metadata": {},
     "output_type": "execute_result"
    }
   ],
   "source": [
    "cv_score=cross_val_score(ls,features,target,cv=5)\n",
    "cv_mean=cv_score.mean()\n",
    "cv_mean"
   ]
  },
  {
   "cell_type": "markdown",
   "id": "e775d06c",
   "metadata": {},
   "source": [
    "# Ensemble technique"
   ]
  },
  {
   "cell_type": "code",
   "execution_count": 76,
   "id": "884cb4e0",
   "metadata": {},
   "outputs": [
    {
     "name": "stdout",
     "output_type": "stream",
     "text": [
      "{'criterion': 'mae', 'max_features': 'auto'}\n"
     ]
    }
   ],
   "source": [
    "from sklearn.model_selection import GridSearchCV\n",
    "from sklearn.ensemble import RandomForestRegressor\n",
    "\n",
    "parameters = {'criterion':['mse', 'mae'],'max_features':[\"auto\", \"sqrt\", \"log2\"]}\n",
    "rf =RandomForestRegressor()\n",
    "clf = GridSearchCV(rf,parameters)\n",
    "clf.fit(features_train,target_train)\n",
    "\n",
    "print(clf.best_params_)"
   ]
  },
  {
   "cell_type": "code",
   "execution_count": 77,
   "id": "e82582ce",
   "metadata": {},
   "outputs": [
    {
     "name": "stdout",
     "output_type": "stream",
     "text": [
      "R2 Score: 98.14539995384297\n",
      "Cross Val Score: 97.36411569084439\n"
     ]
    }
   ],
   "source": [
    "rf= RandomForestRegressor(criterion=\"mae\",max_features=\"auto\")\n",
    "rf.fit(features_train, target_train)\n",
    "rf.score(features_train, target_train)\n",
    "pred_decision = rf.predict(features_test)\n",
    "\n",
    "rfs = r2_score(target_test,pred_decision)\n",
    "print('R2 Score:',rfs*100)\n",
    "\n",
    "rfscore = cross_val_score(rf,features,target,cv=5)\n",
    "rfc = rfscore.mean()\n",
    "print('Cross Val Score:',rfc*100)"
   ]
  },
  {
   "cell_type": "markdown",
   "id": "6b8516a1",
   "metadata": {},
   "source": [
    "# We are getting model accuracy 98.14% and cross validation 97.36%"
   ]
  },
  {
   "cell_type": "code",
   "execution_count": 78,
   "id": "9be870d4",
   "metadata": {},
   "outputs": [],
   "source": [
    "import pickle\n",
    "filename = 'Advertising_Sales_Channel_Prediction.pkl'\n",
    "pickle.dump(rf, open(filename, 'wb'))"
   ]
  },
  {
   "cell_type": "code",
   "execution_count": null,
   "id": "75121188",
   "metadata": {},
   "outputs": [],
   "source": []
  }
 ],
 "metadata": {
  "kernelspec": {
   "display_name": "Python 3 (ipykernel)",
   "language": "python",
   "name": "python3"
  },
  "language_info": {
   "codemirror_mode": {
    "name": "ipython",
    "version": 3
   },
   "file_extension": ".py",
   "mimetype": "text/x-python",
   "name": "python",
   "nbconvert_exporter": "python",
   "pygments_lexer": "ipython3",
   "version": "3.9.7"
  }
 },
 "nbformat": 4,
 "nbformat_minor": 5
}
